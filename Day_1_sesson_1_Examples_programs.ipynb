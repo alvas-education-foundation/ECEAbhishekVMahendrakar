{
  "nbformat": 4,
  "nbformat_minor": 0,
  "metadata": {
    "colab": {
      "name": "Day 1 sesson 1 Examples programs.ipynb",
      "provenance": [],
      "authorship_tag": "ABX9TyPHL91LdwvassbOQba92lo7",
      "include_colab_link": true
    },
    "kernelspec": {
      "name": "python3",
      "display_name": "Python 3"
    }
  },
  "cells": [
    {
      "cell_type": "markdown",
      "metadata": {
        "id": "view-in-github",
        "colab_type": "text"
      },
      "source": [
        "<a href=\"https://colab.research.google.com/github/alvas-education-foundation/ECEAbhishekVMahendrakar/blob/master/Day_1_sesson_1_Examples_programs.ipynb\" target=\"_parent\"><img src=\"https://colab.research.google.com/assets/colab-badge.svg\" alt=\"Open In Colab\"/></a>"
      ]
    },
    {
      "cell_type": "markdown",
      "metadata": {
        "id": "iI8J55G8Otw6",
        "colab_type": "text"
      },
      "source": [
        "#Python Program to Add Two Numbers getting through key board"
      ]
    },
    {
      "cell_type": "code",
      "metadata": {
        "id": "TfiMWt-pOqwY",
        "colab_type": "code",
        "colab": {
          "base_uri": "https://localhost:8080/",
          "height": 67
        },
        "outputId": "5addc820-1310-4f31-d75c-887c796b7e3e"
      },
      "source": [
        "# sum of two nos\n",
        "num1 = int(input(\"Enter first no\"))\n",
        "num2 = int(input(\"Enter second no\"))\n",
        "\n",
        "# Adding the two numbers\n",
        "sum = num1 + num2\n",
        "\n",
        "# Display the sum\n",
        "print('The sum of {0} and {1} is {2}'.format(num1, num2, sum))\n"
      ],
      "execution_count": 1,
      "outputs": [
        {
          "output_type": "stream",
          "text": [
            "Enter first no3\n",
            "Enter second no4\n",
            "The sum of 3 and 4 is 7\n"
          ],
          "name": "stdout"
        }
      ]
    },
    {
      "cell_type": "markdown",
      "metadata": {
        "id": "lF1ahcPlPFS5",
        "colab_type": "text"
      },
      "source": [
        "#Python program to check if the input year is a leap year or not"
      ]
    },
    {
      "cell_type": "code",
      "metadata": {
        "id": "Xr1DFWgRPJs5",
        "colab_type": "code",
        "colab": {
          "base_uri": "https://localhost:8080/",
          "height": 50
        },
        "outputId": "3b8ff6aa-374c-4c83-f7d6-3e9d0520d1e3"
      },
      "source": [
        "# To get year (integer input) from the user\n",
        "year = int(input(\"Enter a year: \"))\n",
        "\n",
        "if ((year % 4) == 0 and (year % 100)  != 0) or ((year % 400) == 0):\n",
        "           print(\"{0} is a leap year\".format(year))\n",
        "else:\n",
        "           print(\"{0} is not a leap year\".format(year))\n"
      ],
      "execution_count": 2,
      "outputs": [
        {
          "output_type": "stream",
          "text": [
            "Enter a year: 5004\n",
            "5004 is a leap year\n"
          ],
          "name": "stdout"
        }
      ]
    },
    {
      "cell_type": "markdown",
      "metadata": {
        "id": "xI_-AMSqPRJx",
        "colab_type": "text"
      },
      "source": [
        "#Python Program to Generate a Random Number "
      ]
    },
    {
      "cell_type": "markdown",
      "metadata": {
        "id": "KRh0Bch9Phu5",
        "colab_type": "text"
      },
      "source": [
        ""
      ]
    },
    {
      "cell_type": "code",
      "metadata": {
        "id": "GEqBkKzdPXrJ",
        "colab_type": "code",
        "colab": {
          "base_uri": "https://localhost:8080/",
          "height": 34
        },
        "outputId": "b92bacf3-a104-4da7-8b65-f52a0691d0b7"
      },
      "source": [
        "# Program to generate a random number between 0 and 9\n",
        "# import the random module\n",
        "import random\n",
        "print(random.randint(0,9))\n"
      ],
      "execution_count": 3,
      "outputs": [
        {
          "output_type": "stream",
          "text": [
            "3\n"
          ],
          "name": "stdout"
        }
      ]
    },
    {
      "cell_type": "markdown",
      "metadata": {
        "id": "nY-MEd4fPnV6",
        "colab_type": "text"
      },
      "source": [
        "#Python Program to Convert Kilometers to Miles "
      ]
    },
    {
      "cell_type": "code",
      "metadata": {
        "id": "eKAsaNqtPyqB",
        "colab_type": "code",
        "colab": {
          "base_uri": "https://localhost:8080/",
          "height": 50
        },
        "outputId": "7ff0bf50-7b46-4bc2-d84b-4cb22cff1ae3"
      },
      "source": [
        "# To take kilometers from the user, uncomment the code below\n",
        "kilometers = int(input(\"Enter value in kilometers\"))\n",
        "\n",
        "# conversion factor\n",
        "conv_fac = 0.621371\n",
        "\n",
        "# calculate miles\n",
        "miles = kilometers * conv_fac\n",
        "print('%0.3f kilometers is equal to %0.3f miles' %(kilometers,miles))\n"
      ],
      "execution_count": 6,
      "outputs": [
        {
          "output_type": "stream",
          "text": [
            "Enter value in kilometers5\n",
            "5.000 kilometers is equal to 3.107 miles\n"
          ],
          "name": "stdout"
        }
      ]
    },
    {
      "cell_type": "markdown",
      "metadata": {
        "id": "IHnuM_myP99Z",
        "colab_type": "text"
      },
      "source": [
        "#Python Program to Solve Quadratic Equation "
      ]
    },
    {
      "cell_type": "code",
      "metadata": {
        "id": "bAhUGB9sQBnT",
        "colab_type": "code",
        "colab": {
          "base_uri": "https://localhost:8080/",
          "height": 84
        },
        "outputId": "7225689b-d006-447e-9633-e06d239100e2"
      },
      "source": [
        "# Solve the quadratic equation ax**2 + bx + c = 0\n",
        "# importing  complex math module\n",
        "import cmath\n",
        "\n",
        " # To take coefficient input from the users\n",
        "a = float(input('Enter a: '))\n",
        "b = float(input('Enter b: '))\n",
        "c = float(input('Enter c: '))\n",
        "\n",
        "# calculate the discriminant\n",
        "d = (b**2) - (4*a*c)\n",
        "\n",
        "# find two solutions\n",
        "sol1 = (-b-cmath.sqrt(d))/(2*a)\n",
        "sol2 = (-b+cmath.sqrt(d))/(2*a)\n",
        "\n",
        "print('The solution are {0} and {1}'.format(sol1,sol2))\n"
      ],
      "execution_count": 7,
      "outputs": [
        {
          "output_type": "stream",
          "text": [
            "Enter a: 3\n",
            "Enter b: 4\n",
            "Enter c: 6\n",
            "The solution are (-0.6666666666666666-1.247219128924647j) and (-0.6666666666666666+1.247219128924647j)\n"
          ],
          "name": "stdout"
        }
      ]
    },
    {
      "cell_type": "markdown",
      "metadata": {
        "id": "tgmU8PpEQX1S",
        "colab_type": "text"
      },
      "source": [
        "#Python Program to find prime or not using function "
      ]
    },
    {
      "cell_type": "code",
      "metadata": {
        "id": "7fGVac5HQfUq",
        "colab_type": "code",
        "colab": {
          "base_uri": "https://localhost:8080/",
          "height": 50
        },
        "outputId": "bfe7a487-cee2-4d77-dfdb-ae5cd0f2d839"
      },
      "source": [
        "def test_prime(n):\n",
        "    if (n==1):\n",
        "        return False\n",
        "    elif (n==2):\n",
        "        return True;\n",
        "    else:\n",
        "        for x in range(2,n):\n",
        "            if(n % x==0):\n",
        "                return False\n",
        "        return True\n",
        "no=int(input(\"Enter the number\"))\n",
        "if (test_prime(no)) is True :\n",
        "    print(\" {0} is a prime no\".format(no))\n",
        "else:\n",
        "     print(\" {0} is not a prime no\".format(no))\n"
      ],
      "execution_count": 8,
      "outputs": [
        {
          "output_type": "stream",
          "text": [
            "Enter the number9\n",
            " 9 is not a prime no\n"
          ],
          "name": "stdout"
        }
      ]
    },
    {
      "cell_type": "markdown",
      "metadata": {
        "id": "r8PcSQjTQjPC",
        "colab_type": "text"
      },
      "source": [
        "#CODING- \"Calculator program\"\n"
      ]
    },
    {
      "cell_type": "code",
      "metadata": {
        "id": "Xy1XB004QtdR",
        "colab_type": "code",
        "colab": {
          "base_uri": "https://localhost:8080/",
          "height": 487
        },
        "outputId": "aeb0a4a2-300a-4686-e465-eb965e6353a2"
      },
      "source": [
        "loop = 1 # 1 means loop; anything else means don't loop.\n",
        "choice = 0 # This variable holds the user's choice in the menu\n",
        "\n",
        "def add(a,b):\n",
        "    return a+b \n",
        "def sub(a,b):\n",
        "    return a-b\n",
        "def mul(a,b):\n",
        "    return a*b\n",
        "def div(a,b):\n",
        "    return a/b\n",
        "\n",
        "while loop == 1:\n",
        "    # Print what options you have\n",
        "    print (\"Welcome to calculator.py\")\n",
        "    print (\"your options are:\")\n",
        "    print (\" \")\n",
        "    print(\"1) Addition\")\n",
        "    print(\"2) Subtraction\")\n",
        "    print(\"3) Multiplication\")\n",
        "    print(\"4) Division\")\n",
        "    print(\"5) Quit calculator.py\")\n",
        "    print(\" \")\n",
        "    try:\n",
        "        choice = int(input(\"Choose your option: \"))\n",
        "    except:\n",
        "        print('please enter a valid number for option')\n",
        "    print(\" \")\n",
        "    print(\" \")\n",
        "    if choice == 1:\n",
        "        x = int(input(\"Enter 1st no: \"))\n",
        "        y = int(input(\"Enter 2nd no: \"))\n",
        "        print(\"The answer is \",add(x,y))\n",
        "\n",
        "    elif choice == 2:\n",
        "        x = int(input(\"Enter 1st no: \"))\n",
        "        y = int(input(\"Enter 2nd no: \"))\n",
        "        print(\"answer is \",sub(x,y))\n",
        "  \n",
        "    elif choice == 3:\n",
        "        x = int(input(\"Enter 1st no: \"))\n",
        "        y = int(input(\"Enter 2nd no: \"))\n",
        "        print(\"answer is \",mul(x,y))\n",
        "\n",
        "    elif choice == 4:\n",
        "        x = int(input(\"Enter 1st no: \"))\n",
        "        y = int(input(\"Enter 2nd no: \"))\n",
        "        print(\"answer is \",div(x,y))\n",
        "        \n",
        "    elif choice == 5:\n",
        "        loop = 0\n",
        "     \n",
        "    else:\n",
        "        print(\"please choice a valid option from 1 to 5\")\n",
        "        choice=0\n",
        "print (\"Thank-you for using calculator.py!\")\n"
      ],
      "execution_count": 12,
      "outputs": [
        {
          "output_type": "stream",
          "text": [
            "Welcome to calculator.py\n",
            "your options are:\n",
            " \n",
            "1) Addition\n",
            "2) Subtraction\n",
            "3) Multiplication\n",
            "4) Division\n",
            "5) Quit calculator.py\n",
            " \n",
            "Choose your option: 1\n",
            " \n",
            " \n",
            "Enter 1st no: 5\n",
            "Enter 2nd no: 9\n",
            "The answer is  14\n",
            "Welcome to calculator.py\n",
            "your options are:\n",
            " \n",
            "1) Addition\n",
            "2) Subtraction\n",
            "3) Multiplication\n",
            "4) Division\n",
            "5) Quit calculator.py\n",
            " \n",
            "Choose your option: 5\n",
            " \n",
            " \n",
            "Thank-you for using calculator.py!\n"
          ],
          "name": "stdout"
        }
      ]
    },
    {
      "cell_type": "markdown",
      "metadata": {
        "id": "4UxVQ0o-RhSp",
        "colab_type": "text"
      },
      "source": [
        "#Exercises"
      ]
    },
    {
      "cell_type": "markdown",
      "metadata": {
        "id": "NupzNHPHRoVx",
        "colab_type": "text"
      },
      "source": [
        "1.\tFind the compound interest for the given p,n,r  (formula : p(1+n*r/100)n )"
      ]
    },
    {
      "cell_type": "code",
      "metadata": {
        "id": "11hnl3HRRszp",
        "colab_type": "code",
        "colab": {
          "base_uri": "https://localhost:8080/",
          "height": 84
        },
        "outputId": "96b51f17-bd54-451c-9da2-56a7b9137a52"
      },
      "source": [
        "p,n,r= float(input(\"Enter the value of p: \")), float(input(\"Enter the value of n: \")), float(input(\"Enter the value of r: \"))\n",
        "print(\"Compound intrest= \", p*(1+n*r/100)*n)"
      ],
      "execution_count": 18,
      "outputs": [
        {
          "output_type": "stream",
          "text": [
            "Enter the value of p: 5\n",
            "Enter the value of n: 6\n",
            "Enter the value of r: 7\n",
            "Compound intrest=  42.599999999999994\n"
          ],
          "name": "stdout"
        }
      ]
    },
    {
      "cell_type": "markdown",
      "metadata": {
        "id": "T_q2ogfVTNKE",
        "colab_type": "text"
      },
      "source": [
        "2.\tConvert centegrade to farenheit  ( f= 9/5*c+32)"
      ]
    },
    {
      "cell_type": "code",
      "metadata": {
        "id": "tjWrgMINTQ1x",
        "colab_type": "code",
        "colab": {
          "base_uri": "https://localhost:8080/",
          "height": 50
        },
        "outputId": "27497c6e-1196-47a6-bc08-b415bf6f78de"
      },
      "source": [
        "centi= float(input(\"Enter the value in Centigrade: \"))\n",
        "try:\n",
        "  print(\"Value in Farenheit= \",9/5*centi+32,\"F\")\n",
        "except:\n",
        "  print(\"Please enter a valid number.\")\n"
      ],
      "execution_count": 20,
      "outputs": [
        {
          "output_type": "stream",
          "text": [
            "Enter the value in Centigrade: 36\n",
            "Value in Farenheit=  96.8 F\n"
          ],
          "name": "stdout"
        }
      ]
    },
    {
      "cell_type": "markdown",
      "metadata": {
        "id": "IBzbZH6rU2vT",
        "colab_type": "text"
      },
      "source": [
        "3.\tFind the greater of two nos "
      ]
    },
    {
      "cell_type": "code",
      "metadata": {
        "id": "NslxtWV_WAUQ",
        "colab_type": "code",
        "colab": {
          "base_uri": "https://localhost:8080/",
          "height": 67
        },
        "outputId": "0bbc960b-5e3a-41a2-8bab-e2a2e6f50669"
      },
      "source": [
        "a,b= float(input(\"Enter the first number=\")), float(input(\"Enter the second number=\"))\n",
        "if a>b:\n",
        "  print(\"The greatest of\",a,\"and\", b, \"is\", a)\n",
        "elif a==b:\n",
        "  print(\"Both are equal\")\n",
        "else:\n",
        "  print(\"The greatest of\",a,\"and\", b, \"is\", b)"
      ],
      "execution_count": 21,
      "outputs": [
        {
          "output_type": "stream",
          "text": [
            "Enter the first number=5.6\n",
            "Enter the second number=5.61\n",
            "The greatest of 5.6 and 5.61 is 5.61\n"
          ],
          "name": "stdout"
        }
      ]
    },
    {
      "cell_type": "markdown",
      "metadata": {
        "id": "IY54hWZ4W_E0",
        "colab_type": "text"
      },
      "source": [
        "4.\tWrite a program for finding surface areas of cylinder and cone (2*PI*r*r*h,1/3*PI*r*r*h) using function."
      ]
    },
    {
      "cell_type": "code",
      "metadata": {
        "id": "M09ygkXcXQL4",
        "colab_type": "code",
        "colab": {
          "base_uri": "https://localhost:8080/",
          "height": 84
        },
        "outputId": "08689e8d-2ae5-422d-f639-288d15ce3f31"
      },
      "source": [
        "import math\n",
        "def cylinder(r,h):\n",
        "  return(2*math.pi*r*r*h)\n",
        "def cone(r,h):\n",
        "  return((1/3)*math.pi*r*r*h)\n",
        "\n",
        "r= float(input(\"Enter the radius: \"))\n",
        "h= float(input(\"Enter the height: \"))\n",
        "\n",
        "print(\"The surface are of cylinder for r=\",r,\"and h=\", h, \"is= \",cylinder(r,h))\n",
        "print(\"The surface are of cone for r=\",r,\"and h=\", h, \"is= \",cone(r,h))"
      ],
      "execution_count": 26,
      "outputs": [
        {
          "output_type": "stream",
          "text": [
            "Enter the radius: 5\n",
            "Enter the height: 6\n",
            "The surface are of cylinder for r= 5.0 and h= 6.0 is=  942.4777960769379\n",
            "The surface are of cone for r= 5.0 and h= 6.0 is=  157.07963267948963\n"
          ],
          "name": "stdout"
        }
      ]
    },
    {
      "cell_type": "markdown",
      "metadata": {
        "id": "CHxUJ_JaZfaC",
        "colab_type": "text"
      },
      "source": [
        "5.\tFind the greatest of four nos ( using ‘and’ operator)   using function."
      ]
    },
    {
      "cell_type": "code",
      "metadata": {
        "id": "AksFlJV2ZhsA",
        "colab_type": "code",
        "colab": {
          "base_uri": "https://localhost:8080/",
          "height": 101
        },
        "outputId": "74503695-6dd0-4698-f46f-b61f2693eaa1"
      },
      "source": [
        "a,b,c,d=float(input(\"Enter the 1st number: \")), float(input(\"Enter the 2nd number: \")), float(input(\"Enter the 3rd number: \")), float(input(\"Enter the 4th number: \"))\n",
        "if (a>b) and (a>c) and (a>d):\n",
        "  print(a,\"is greatest of 4 numbers.\")\n",
        "elif (b>c) and (b>d):\n",
        "  print(b, \"is greatest of 4 numbers.\")\n",
        "elif c>d:\n",
        "  print(c,\"is greatest of 4 numbers.\")\n",
        "else:\n",
        "  print(d, \"is greatest of 4 numbers.\")"
      ],
      "execution_count": 30,
      "outputs": [
        {
          "output_type": "stream",
          "text": [
            "Enter the 1st number: 1\n",
            "Enter the 2nd number: 2\n",
            "Enter the 3rd number: 4\n",
            "Enter the 4th number: 3\n",
            "4.0 is greatest of 4 numbers.\n"
          ],
          "name": "stdout"
        }
      ]
    },
    {
      "cell_type": "markdown",
      "metadata": {
        "id": "0EiA1MpQa04D",
        "colab_type": "text"
      },
      "source": [
        "6.\tWrite a  menu program to perform the operations ( ODDorEven, Factorial,ODDNoUptoN, PrimeUptoN ) using functions for two nos with  menu choice"
      ]
    },
    {
      "cell_type": "code",
      "metadata": {
        "id": "4pjYYPONa6_h",
        "colab_type": "code",
        "colab": {
          "base_uri": "https://localhost:8080/",
          "height": 655
        },
        "outputId": "ebd8917f-896a-4d40-88f2-f42f9240792d"
      },
      "source": [
        "# Importing library\n",
        "import sympy as sy\n",
        "#-----------------------------------------------------------------------------\n",
        "# Function defination to chect weather the number is Even or Odd.\n",
        "def oddOrEven(a,b):\n",
        "  if a%2==0:\n",
        "    print(a,\"is a even number.\")\n",
        "  else:\n",
        "    print(a, \"is a odd number.\")\n",
        "  \n",
        "  if b%2==0:\n",
        "    print(b,\"is a even number.\")\n",
        "  else:\n",
        "    print(b, \"is a odd number.\")\n",
        "#-----------------------------------------------------------------------------\n",
        "# Function to get factorial of a number.    \n",
        "def factorial(n):\n",
        "    if n<=1:\n",
        "        return 1\n",
        "    else:\n",
        "        return n * factorial(n-1)\n",
        "#-----------------------------------------------------------------------------\n",
        "# Function to get odd numbers upto N.\n",
        "def oddNoUptoN(N):\n",
        "  arr=[]\n",
        "  for i in range(N):\n",
        "    if i%2 !=0:\n",
        "      arr.append(i)\n",
        "  return arr\n",
        "#-----------------------------------------------------------------------------\n",
        "# Function to verify weather the the number is prime or not using SymPy library.\n",
        "def prime(a,b):\n",
        "  if sy.isprime(a):\n",
        "    print(a,\"is a prime number.\")\n",
        "  else:\n",
        "    print(a,\"is not a prime number.\")\n",
        "  \n",
        "  if sy.isprime(b):\n",
        "    print(b,\"is a prime number.\")\n",
        "  else:\n",
        "    print(b,\"is not a prime number.\")\n",
        "#-----------------------------------------------------------------------------\n",
        "\n",
        "a,b=int(input(\"Enter the first number\")), int(input(\"Enter the second number\"))\n",
        "print(\"Enter\",0, \"to exit.\")\n",
        "print(\"Enter\",1,\" if you want to check wheather the number is even or odd.\")\n",
        "print(\"Enter\",2,\" if you want to perform factorial function.\")\n",
        "print(\"Enter\",3,\" if you want to get odd numbers upto N.\")\n",
        "print(\"Enter\",4,\" if you want to get prime numbers upto N.\")\n",
        "choice=int(input(\"Enter the choice\"))\n",
        "\n",
        "#-----------------------------------------------------------------------------\n",
        "# While loop for continious execution.\n",
        "\n",
        "while(choice!=0):\n",
        "  if choice==1:\n",
        "    oddOrEven(a,b)\n",
        "\n",
        "  elif choice==2:\n",
        "    print(\"Factorial of\",a,\"is=\",factorial(a))\n",
        "    print(\"Factorial of\",b,\"is=\",factorial(b))\n",
        "  \n",
        "  elif choice==3:\n",
        "    print(\"The odd numbers upto\",a,\"are: \",oddNoUptoN(a))\n",
        "    print(\"The odd numbers upto\",b,\"are: \",oddNoUptoN(b))\n",
        "  \n",
        "  elif choice==4:\n",
        "    prime(a,b)\n",
        "\n",
        "\n",
        "  print(\"Enter\",0, \"to exit.\")\n",
        "  print(\"Enter\",1,\" if you want to check wheather the number is even or odd.\")\n",
        "  print(\"Enter\",2,\" if you want to perform factorial function.\")\n",
        "  print(\"Enter\",3,\" if you want to get odd numbers upto N.\")\n",
        "  print(\"Enter\",4,\" if you want to get prime numbers upto N.\")\n",
        "  choice=int(input(\"Enter the choice\"))\n",
        "  if choice==0:\n",
        "    break\n",
        "  print(\"Enter two new values\")\n",
        "  a,b=int(input(\"Enter the first number\")), int(input(\"Enter the second number\"))\n",
        "  \n",
        " #------------------------------------------------------------------------------\n",
        " #End of the program "
      ],
      "execution_count": 44,
      "outputs": [
        {
          "output_type": "stream",
          "text": [
            "Enter the first number5\n",
            "Enter the second number8\n",
            "Enter 0 to exit.\n",
            "Enter 1  if you want to check wheather the number is even or odd.\n",
            "Enter 2  if you want to perform factorial function.\n",
            "Enter 3  if you want to get odd numbers upto N.\n",
            "Enter 4  if you want to get prime numbers upto N.\n",
            "Enter the choice4\n",
            "5 is a prime number.\n",
            "8 is not a prime number.\n",
            "Enter 0 to exit.\n",
            "Enter 1  if you want to check wheather the number is even or odd.\n",
            "Enter 2  if you want to perform factorial function.\n",
            "Enter 3  if you want to get odd numbers upto N.\n",
            "Enter 4  if you want to get prime numbers upto N.\n",
            "Enter the choice1\n",
            "Enter two new values\n",
            "Enter the first number7\n",
            "Enter the second number6\n",
            "7 is a odd number.\n",
            "6 is a even number.\n",
            "Enter 0 to exit.\n",
            "Enter 1  if you want to check wheather the number is even or odd.\n",
            "Enter 2  if you want to perform factorial function.\n",
            "Enter 3  if you want to get odd numbers upto N.\n",
            "Enter 4  if you want to get prime numbers upto N.\n",
            "Enter the choice2\n",
            "Enter two new values\n",
            "Enter the first number5\n",
            "Enter the second number9\n",
            "Factorial of 5 is= 120\n",
            "Factorial of 9 is= 362880\n",
            "Enter 0 to exit.\n",
            "Enter 1  if you want to check wheather the number is even or odd.\n",
            "Enter 2  if you want to perform factorial function.\n",
            "Enter 3  if you want to get odd numbers upto N.\n",
            "Enter 4  if you want to get prime numbers upto N.\n",
            "Enter the choice0\n"
          ],
          "name": "stdout"
        }
      ]
    }
  ]
}
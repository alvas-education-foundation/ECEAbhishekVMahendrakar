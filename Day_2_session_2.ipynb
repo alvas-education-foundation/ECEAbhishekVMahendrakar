{
  "nbformat": 4,
  "nbformat_minor": 0,
  "metadata": {
    "colab": {
      "name": "Day-2 session-2.ipynb",
      "provenance": [],
      "collapsed_sections": [],
      "authorship_tag": "ABX9TyOZPGRqU4j7IX6jUOO1+vYY",
      "include_colab_link": true
    },
    "kernelspec": {
      "name": "python3",
      "display_name": "Python 3"
    }
  },
  "cells": [
    {
      "cell_type": "markdown",
      "metadata": {
        "id": "view-in-github",
        "colab_type": "text"
      },
      "source": [
        "<a href=\"https://colab.research.google.com/github/alvas-education-foundation/ECEAbhishekVMahendrakar/blob/master/Day_2_session_2.ipynb\" target=\"_parent\"><img src=\"https://colab.research.google.com/assets/colab-badge.svg\" alt=\"Open In Colab\"/></a>"
      ]
    },
    {
      "cell_type": "markdown",
      "metadata": {
        "id": "Xn7CUYkugNDC",
        "colab_type": "text"
      },
      "source": [
        "#dict.clear()\n",
        "#Removes all elements of dictionary dict\n"
      ]
    },
    {
      "cell_type": "code",
      "metadata": {
        "id": "Dhk0jqCBgSk4",
        "colab_type": "code",
        "colab": {
          "base_uri": "https://localhost:8080/",
          "height": 50
        },
        "outputId": "92a8a18a-b079-4e83-f8d8-04ac9e4bcbb9"
      },
      "source": [
        "dict = {'Name': 'Zara', 'Age': 7};\n",
        "print(\"Start Len : %d\" %  len(dict))\n",
        "dict.clear()\n",
        "print(\"End Len : %d\" %  len(dict))\n"
      ],
      "execution_count": null,
      "outputs": [
        {
          "output_type": "stream",
          "text": [
            "Start Len : 2\n",
            "End Len : 0\n"
          ],
          "name": "stdout"
        }
      ]
    },
    {
      "cell_type": "markdown",
      "metadata": {
        "id": "4t8JwK00gYjC",
        "colab_type": "text"
      },
      "source": [
        "#dict.items()\n",
        "#Returns a list of dict's (key, value) tuple pairs\n"
      ]
    },
    {
      "cell_type": "code",
      "metadata": {
        "id": "q-br5upJgaoS",
        "colab_type": "code",
        "colab": {
          "base_uri": "https://localhost:8080/",
          "height": 34
        },
        "outputId": "e02199f6-5580-4135-de26-6c82c1821f5f"
      },
      "source": [
        "dict = {'Name': 'Zara', 'Age': 7}\n",
        "print (\"Value : %s\" %  dict.items())\n"
      ],
      "execution_count": null,
      "outputs": [
        {
          "output_type": "stream",
          "text": [
            "Value : dict_items([('Name', 'Zara'), ('Age', 7)])\n"
          ],
          "name": "stdout"
        }
      ]
    },
    {
      "cell_type": "markdown",
      "metadata": {
        "id": "CbIxUXqTgiHq",
        "colab_type": "text"
      },
      "source": [
        "# dict.copy()\n",
        "#Returns a copy of dictionary dict\n"
      ]
    },
    {
      "cell_type": "code",
      "metadata": {
        "id": "IVGZ6wrpgj0K",
        "colab_type": "code",
        "colab": {
          "base_uri": "https://localhost:8080/",
          "height": 34
        },
        "outputId": "f3d22757-8af1-4b71-fe91-ac0e64755d11"
      },
      "source": [
        "dict1 = {'Name': 'Zara', 'Age': 7};\n",
        "dict2 = dict1.copy()\n",
        "print (\"New Dictinary : %s\" %  str(dict2))\n"
      ],
      "execution_count": null,
      "outputs": [
        {
          "output_type": "stream",
          "text": [
            "New Dictinary : {'Name': 'Zara', 'Age': 7}\n"
          ],
          "name": "stdout"
        }
      ]
    },
    {
      "cell_type": "markdown",
      "metadata": {
        "id": "sWLpdptZgoMS",
        "colab_type": "text"
      },
      "source": [
        "#Python Program to Generate a Dictionary that Contains Numbers (between 1 and n) in the Form (x,x*x). "
      ]
    },
    {
      "cell_type": "code",
      "metadata": {
        "id": "7axp1AkZgscC",
        "colab_type": "code",
        "colab": {
          "base_uri": "https://localhost:8080/",
          "height": 50
        },
        "outputId": "c8face33-166a-415f-a8b4-bab9cc2299d6"
      },
      "source": [
        "n=int(input(\"Enter a number:\"))\n",
        "d={x:x*x for x in range(1,n+1)}\n",
        "print(d)\n"
      ],
      "execution_count": null,
      "outputs": [
        {
          "output_type": "stream",
          "text": [
            "Enter a number:5\n",
            "{1: 1, 2: 4, 3: 9, 4: 16, 5: 25}\n"
          ],
          "name": "stdout"
        }
      ]
    },
    {
      "cell_type": "markdown",
      "metadata": {
        "id": "e7j0BKhZg1Ky",
        "colab_type": "text"
      },
      "source": [
        "#Python Program to Sum All the Items in a Dictionary "
      ]
    },
    {
      "cell_type": "code",
      "metadata": {
        "id": "Ib7JRHH4g_dT",
        "colab_type": "code",
        "colab": {
          "base_uri": "https://localhost:8080/",
          "height": 50
        },
        "outputId": "5da59f94-6d0d-423c-be87-e6740ef844fe"
      },
      "source": [
        "d={'A':100,'B':540,'C':239}\n",
        "print(\"Total sum of values in the dictionary:\")\n",
        "print(sum(d.values()))\n"
      ],
      "execution_count": null,
      "outputs": [
        {
          "output_type": "stream",
          "text": [
            "Total sum of values in the dictionary:\n",
            "879\n"
          ],
          "name": "stdout"
        }
      ]
    },
    {
      "cell_type": "markdown",
      "metadata": {
        "id": "3JId4l51hEES",
        "colab_type": "text"
      },
      "source": [
        "#Python Program to Remove the Given Key from a Dictionary "
      ]
    },
    {
      "cell_type": "code",
      "metadata": {
        "id": "4kKhdI10hFra",
        "colab_type": "code",
        "colab": {
          "base_uri": "https://localhost:8080/",
          "height": 101
        },
        "outputId": "8edabe5b-9ead-4ba8-83e9-7361cc7de8db"
      },
      "source": [
        "d = {'a':1,'b':2,'c':3,'d':4}\n",
        "print(\"Initial dictionary\")\n",
        "print(d)\n",
        "key=input(\"Enter the key to delete(a-d):\")\n",
        "if key in d: \n",
        "    del d[key]\n",
        "else:\n",
        "    print(\"Key not found!\")\n",
        "    exit(0)\n",
        "print(\"Updated dictionary\")\n",
        "print(d)\n"
      ],
      "execution_count": null,
      "outputs": [
        {
          "output_type": "stream",
          "text": [
            "Initial dictionary\n",
            "{'a': 1, 'b': 2, 'c': 3, 'd': 4}\n",
            "Enter the key to delete(a-d):d\n",
            "Updated dictionary\n",
            "{'a': 1, 'b': 2, 'c': 3}\n"
          ],
          "name": "stdout"
        }
      ]
    },
    {
      "cell_type": "markdown",
      "metadata": {
        "id": "NIS0Ef8Rhc5q",
        "colab_type": "text"
      },
      "source": [
        "#Python Program to add name and mark as key->value pair in  a Dictionary and print it."
      ]
    },
    {
      "cell_type": "code",
      "metadata": {
        "id": "cVE7Dm6ohhVw",
        "colab_type": "code",
        "colab": {
          "base_uri": "https://localhost:8080/",
          "height": 286
        },
        "outputId": "27fc1222-597c-48a5-8837-5581b0d31bfc"
      },
      "source": [
        "n=int(input(\"Enter no of records\"))\n",
        "d={}\n",
        "for i in range(1,n+1):\n",
        "    name= input(\"Enter name %d\"%(i))\n",
        "    mark=int(input(\"Enter mark %d\"%(i)))\n",
        "    d[name]=mark\n",
        "    print (d)\n"
      ],
      "execution_count": null,
      "outputs": [
        {
          "output_type": "stream",
          "text": [
            "Enter no of records5\n",
            "Enter name 1abhi\n",
            "Enter mark 16\n",
            "{'abhi': 6}\n",
            "Enter name 2shek\n",
            "Enter mark 25\n",
            "{'abhi': 6, 'shek': 5}\n",
            "Enter name 3ma\n",
            "Enter mark 35\n",
            "{'abhi': 6, 'shek': 5, 'ma': 5}\n",
            "Enter name 4hen\n",
            "Enter mark 43\n",
            "{'abhi': 6, 'shek': 5, 'ma': 5, 'hen': 3}\n",
            "Enter name 5drakar\n",
            "Enter mark 53\n",
            "{'abhi': 6, 'shek': 5, 'ma': 5, 'hen': 3, 'drakar': 3}\n"
          ],
          "name": "stdout"
        }
      ]
    },
    {
      "cell_type": "markdown",
      "metadata": {
        "id": "eXMkQOTdiY9D",
        "colab_type": "text"
      },
      "source": [
        "# Keys and Values example"
      ]
    },
    {
      "cell_type": "code",
      "metadata": {
        "id": "5tjo31xjic6q",
        "colab_type": "code",
        "colab": {
          "base_uri": "https://localhost:8080/",
          "height": 487
        },
        "outputId": "a30fc5a7-ebee-46be-d154-c664da26b34c"
      },
      "source": [
        " d={}\n",
        " print (\" The dictionary elements are\")\n",
        " for i in range(1,21):\n",
        "     d[i]=i**2\n",
        " print(d)\n",
        " # To print key and values\n",
        " print(\" Key==> Value are\")\n",
        " for (k,v) in d.items():\t\n",
        "      print(k,\"==>\",v)\n",
        " # To print key only\n",
        "print(\"\\nTo print key only\")\n",
        " for k in d.keys():\t\n",
        "  print(k, end=\" \")\n",
        "  #To print value only\n",
        " print(\"\\nTo print values only\")\n",
        " for v in d.values():\t\n",
        "      print(v, end=\" \")\n"
      ],
      "execution_count": null,
      "outputs": [
        {
          "output_type": "stream",
          "text": [
            " The dictionary elements are\n",
            "{1: 1, 2: 4, 3: 9, 4: 16, 5: 25, 6: 36, 7: 49, 8: 64, 9: 81, 10: 100, 11: 121, 12: 144, 13: 169, 14: 196, 15: 225, 16: 256, 17: 289, 18: 324, 19: 361, 20: 400}\n",
            " Key==> Value are\n",
            "1 ==> 1\n",
            "2 ==> 4\n",
            "3 ==> 9\n",
            "4 ==> 16\n",
            "5 ==> 25\n",
            "6 ==> 36\n",
            "7 ==> 49\n",
            "8 ==> 64\n",
            "9 ==> 81\n",
            "10 ==> 100\n",
            "11 ==> 121\n",
            "12 ==> 144\n",
            "13 ==> 169\n",
            "14 ==> 196\n",
            "15 ==> 225\n",
            "16 ==> 256\n",
            "17 ==> 289\n",
            "18 ==> 324\n",
            "19 ==> 361\n",
            "20 ==> 400\n",
            "\n",
            "To print key only\n",
            "1 2 3 4 5 6 7 8 9 10 11 12 13 14 15 16 17 18 19 20 \n",
            "To print values only\n",
            "1 4 9 16 25 36 49 64 81 100 121 144 169 196 225 256 289 324 361 400 "
          ],
          "name": "stdout"
        }
      ]
    },
    {
      "cell_type": "markdown",
      "metadata": {
        "id": "BrzSiSfajiDE",
        "colab_type": "text"
      },
      "source": [
        "#Python program to convert 2 digit number  into words"
      ]
    },
    {
      "cell_type": "code",
      "metadata": {
        "id": "UMzbCgmkjlDi",
        "colab_type": "code",
        "colab": {
          "base_uri": "https://localhost:8080/",
          "height": 50
        },
        "outputId": "a2a0a42a-9463-43ec-d909-1575aa9d60ba"
      },
      "source": [
        "d={0:'',1:'one',2:'two',3:'three',4:'four',5:'five',6:'six',7:'seven',8:'eight',9:'nine',\\\n",
        "   10:'ten',11:'eleven',12:'twelve',13:'thirteen',14:'fourteen',15:'fifteen',16:'sixteen',\\\n",
        "   17:'seventeen',18:'eightteen',19:'nineteen',20:'twenty',30:'thirty',40:'fourty',50:'fifty',\\\n",
        "   60:'sixty',70:'seventy',80:'eighty',90:'ninty'}\n",
        "\n",
        "num=int(input(\"Enter the integer between 1 to 99:\"))\n",
        "if (num<=20):\n",
        "      print(d[num])\n",
        "if(num>20 and num<100):\n",
        "        if num%10==0:       \n",
        "            print(d[num])\n",
        "        else:\n",
        "            print(d[num//10*10]+\" \"+d[num%10])\n",
        "\n",
        "\n"
      ],
      "execution_count": null,
      "outputs": [
        {
          "output_type": "stream",
          "text": [
            "Enter the integer between 1 to 99:45\n",
            "fourty five\n"
          ],
          "name": "stdout"
        }
      ]
    },
    {
      "cell_type": "markdown",
      "metadata": {
        "id": "AF6jQ0oNlEP3",
        "colab_type": "text"
      },
      "source": [
        "#How to sort a dictionary by values in Python"
      ]
    },
    {
      "cell_type": "code",
      "metadata": {
        "id": "WQVFS6ZqlPkp",
        "colab_type": "code",
        "colab": {
          "base_uri": "https://localhost:8080/",
          "height": 50
        },
        "outputId": "597aac8d-f0dd-4d89-e20b-2f7208524744"
      },
      "source": [
        "d = {\"Pierre\": 42, \"Anne\": 33, \"Zoe\": 24}\n",
        "#Use the sorted function and operator module\n",
        "import operator\n",
        "sorted_d = sorted(d.items(), key=operator.itemgetter(1))\n",
        "print(sorted_d)\n",
        "sorted_a= sorted(d.items(), key=operator.itemgetter(1),reverse=True)\n",
        "print(sorted_a)\n"
      ],
      "execution_count": null,
      "outputs": [
        {
          "output_type": "stream",
          "text": [
            "[('Zoe', 24), ('Anne', 33), ('Pierre', 42)]\n",
            "[('Pierre', 42), ('Anne', 33), ('Zoe', 24)]\n"
          ],
          "name": "stdout"
        }
      ]
    },
    {
      "cell_type": "markdown",
      "metadata": {
        "id": "_U8tJiPrl1FQ",
        "colab_type": "text"
      },
      "source": [
        "#Exercises- Tests"
      ]
    },
    {
      "cell_type": "markdown",
      "metadata": {
        "id": "VS7kFNjcl8PY",
        "colab_type": "text"
      },
      "source": [
        "\n",
        "1.\tAdd rollno and marks {name:mark} for n number of students through keyboard in a dictionary and print the marks in descending order with respective name."
      ]
    },
    {
      "cell_type": "code",
      "metadata": {
        "id": "IWOrN_Pbl-UR",
        "colab_type": "code",
        "colab": {
          "base_uri": "https://localhost:8080/",
          "height": 151
        },
        "outputId": "aac4028d-d85c-4e5c-a1c9-1a3bd5e1edb5"
      },
      "source": [
        "n= int(input(\"Enter the number of students: \"))\n",
        "d={}\n",
        "for i in range(n):\n",
        "  name= input(\"Enter the name: \")\n",
        "  marks= int(input(\"Enter the marks obtained: \"))\n",
        "  d[name]=marks\n",
        "print(sorted(d.items(), key = \n",
        "             lambda kv:(kv[1], kv[0]), reverse=True))    \n"
      ],
      "execution_count": null,
      "outputs": [
        {
          "output_type": "stream",
          "text": [
            "Enter the number of students: 3\n",
            "Enter the name: a\n",
            "Enter the marks obtained: 3\n",
            "Enter the name: c\n",
            "Enter the marks obtained: 1\n",
            "Enter the name: b\n",
            "Enter the marks obtained: 2\n",
            "[('a', 3), ('b', 2), ('c', 1)]\n"
          ],
          "name": "stdout"
        }
      ]
    },
    {
      "cell_type": "markdown",
      "metadata": {
        "id": "xi3hgcFeuldu",
        "colab_type": "text"
      },
      "source": [
        "2.\tAdd  name and salary {name:salary} for n number of employees through keyboard in a dictionary and print them in name alphabetical order with salary"
      ]
    },
    {
      "cell_type": "code",
      "metadata": {
        "id": "423RGfaAum-w",
        "colab_type": "code",
        "colab": {
          "base_uri": "https://localhost:8080/",
          "height": 151
        },
        "outputId": "0c55022f-cc55-4e10-d773-7d72870a930b"
      },
      "source": [
        "n= int(input(\"Enter the number of employees: \"))\n",
        "d={}\n",
        "for i in range(n):\n",
        "  name= input(\"Enter the name: \")\n",
        "  sal= int(input(\"Enter the salary: \"))\n",
        "  d[name]=sal\n",
        "print(sorted(d.items(), key = \n",
        "             lambda kv:(kv[0], kv[1])))   "
      ],
      "execution_count": null,
      "outputs": [
        {
          "output_type": "stream",
          "text": [
            "Enter the number of employees: 3\n",
            "Enter the name: abhishek\n",
            "Enter the salary: 5000\n",
            "Enter the name: rohan\n",
            "Enter the salary: 2000\n",
            "Enter the name: akshay\n",
            "Enter the salary: 9000\n",
            "[('abhishek', 5000), ('akshay', 9000), ('rohan', 2000)]\n"
          ],
          "name": "stdout"
        }
      ]
    },
    {
      "cell_type": "markdown",
      "metadata": {
        "id": "T_EKchppwSDJ",
        "colab_type": "text"
      },
      "source": [
        "3.\tAdd  name and salary {name:salary} for n number of employees through keyboard in a dictionary and print them in salary  ascending order and  sum, max, min and average of the salaries"
      ]
    },
    {
      "cell_type": "code",
      "metadata": {
        "id": "gqeCqZ_qwULI",
        "colab_type": "code",
        "colab": {
          "base_uri": "https://localhost:8080/",
          "height": 218
        },
        "outputId": "edb1cb56-18fa-4f7f-ac72-606f50e32bba"
      },
      "source": [
        "n= int(input(\"Enter the number of employees: \"))\n",
        "d={}\n",
        "sum=0\n",
        "for i in range(n):\n",
        "  name= input(\"Enter the name: \")\n",
        "  sal= int(input(\"Enter the marks salary: \"))\n",
        "  sum+=sal\n",
        "  d[name]=sal\n",
        "print(sorted(d.items(), key = \n",
        "             lambda kv:(kv[1], kv[0]), reverse= True)) \n",
        "print(\"Sum of salaries of all Employees= \", sum)\n",
        "print(\"Average salary is= \",sum/n)\n",
        "print(\"Max salary is= \",max(d.values()))\n",
        "print(\"Min salary is= \",min(d.values()))  "
      ],
      "execution_count": null,
      "outputs": [
        {
          "output_type": "stream",
          "text": [
            "Enter the number of employees: 3\n",
            "Enter the name: bahubali\n",
            "Enter the marks salary: 5000\n",
            "Enter the name: devasana\n",
            "Enter the marks salary: 2000\n",
            "Enter the name: katappa\n",
            "Enter the marks salary: 12000\n",
            "[('katappa', 12000), ('bahubali', 5000), ('devasana', 2000)]\n",
            "Sum of salaries of all Employees=  19000\n",
            "Average salary is=  6333.333333333333\n",
            "Max salary is=  12000\n",
            "Min salary is=  2000\n"
          ],
          "name": "stdout"
        }
      ]
    },
    {
      "cell_type": "markdown",
      "metadata": {
        "id": "Pgh-V9fO0gzg",
        "colab_type": "text"
      },
      "source": [
        "4.\tAdd name and salary {name:salary} for n number of employees through keyboard in a dictionary and print only the employees whose salary is greater than 2000 but less than 4000"
      ]
    },
    {
      "cell_type": "code",
      "metadata": {
        "id": "krs4te-k0kNP",
        "colab_type": "code",
        "colab": {
          "base_uri": "https://localhost:8080/",
          "height": 151
        },
        "outputId": "a1299748-8e94-4ae7-ea6a-ff3b34ff439d"
      },
      "source": [
        "n= int(input(\"Enter the number of employees: \"))\n",
        "d={}\n",
        "d1={}\n",
        "for i in range(n):\n",
        "  name= input(\"Enter the name: \")\n",
        "  sal= int(input(\"Enter the salary: \"))\n",
        "  d[name]=sal\n",
        "for (key,value) in d.items():\n",
        "  if value>2000 and value<4000:\n",
        "    d1[key]=value\n",
        "print(\"Ranged salary list: \",d1)"
      ],
      "execution_count": null,
      "outputs": [
        {
          "output_type": "stream",
          "text": [
            "Enter the number of employees: 3\n",
            "Enter the name: bahubali\n",
            "Enter the salary: 3000\n",
            "Enter the name: devasana\n",
            "Enter the salary: 4000\n",
            "Enter the name: katappa\n",
            "Enter the salary: 2000\n",
            "Ranged salary list:  {'bahubali': 3000}\n"
          ],
          "name": "stdout"
        }
      ]
    },
    {
      "cell_type": "markdown",
      "metadata": {
        "id": "2mbRU1Ts3cv2",
        "colab_type": "text"
      },
      "source": [
        "5.\tPython program to convert a 3 digit number  into words"
      ]
    },
    {
      "cell_type": "code",
      "metadata": {
        "id": "ruGS72kz3mXH",
        "colab_type": "code",
        "colab": {
          "base_uri": "https://localhost:8080/",
          "height": 50
        },
        "outputId": "8dcd211b-2c99-4cf9-aca0-e32070dfd52e"
      },
      "source": [
        "d={0:'',1:'one',2:'two',3:'three',4:'four',5:'five',6:'six',7:'seven',8:'eight',9:'nine',\\\n",
        "   10:'ten',11:'eleven',12:'twelve',13:'thirteen',14:'fourteen',15:'fifteen',16:'sixteen',\\\n",
        "   17:'seventeen',18:'eightteen',19:'nineteen',20:'twenty',30:'thirty',40:'fourty',50:'fifty',\\\n",
        "   60:'sixty',70:'seventy',80:'eighty',90:'ninty'}\n",
        "\n",
        "def two(num):\n",
        "  num=num%100\n",
        "  if(num>20 and num<100):\n",
        "        if num%10==0:       \n",
        "            return (d[num])\n",
        "        else:\n",
        "            return (d[num//10*10]+\" \"+d[num%10])\n",
        "\n",
        "def three(num):\n",
        "  if (num>=100 and num<1000):\n",
        "    x= int(num/100)\n",
        "    print(d[x],\"hundred\",two(num))\n",
        "num=int(input(\"Enter the integer between 100 to 999:\"))\n",
        "three(num)\n"
      ],
      "execution_count": null,
      "outputs": [
        {
          "output_type": "stream",
          "text": [
            "Enter the integer between 100 to 999:100\n",
            "one hundred None\n"
          ],
          "name": "stdout"
        }
      ]
    },
    {
      "cell_type": "markdown",
      "metadata": {
        "id": "24zW4ZgnkLNX",
        "colab_type": "text"
      },
      "source": [
        "#Files Examples"
      ]
    },
    {
      "cell_type": "markdown",
      "metadata": {
        "id": "CKJV92MMkPQ-",
        "colab_type": "text"
      },
      "source": [
        "# Python Program to count the number of lines in a text file. "
      ]
    },
    {
      "cell_type": "code",
      "metadata": {
        "id": "SSU61LpvkUQU",
        "colab_type": "code",
        "colab": {}
      },
      "source": [
        "from google.colab import drive\n",
        "drive.mount('/content/drive')\n",
        "#Python Program to count the number of lines in a text file. \n",
        "file = '/content/drive/My Drive/20-06-2020.doc'\n",
        "num_lines = 0\n",
        "with open(file, 'r') as f:\n",
        "  for line in f:\n",
        "    num_lines += 1\n",
        "print(\"Number of lines:\")\n",
        "print(num_lines)\n"
      ],
      "execution_count": null,
      "outputs": []
    },
    {
      "cell_type": "markdown",
      "metadata": {
        "id": "9vUVpTQOlbRC",
        "colab_type": "text"
      },
      "source": [
        "#Python Program to count the number of words in a text file. "
      ]
    },
    {
      "cell_type": "code",
      "metadata": {
        "id": "9apF0E6mmlPe",
        "colab_type": "code",
        "colab": {}
      },
      "source": [
        "file = 'drive/My Drive/doc.txt'\n",
        "num_words = 0\n",
        "with open(file, 'r') as f:\n",
        "for line in f:\n",
        "words = line.split()\n",
        "print(words)\n",
        "num_words += len(words)\n",
        "print(\"Number of words:\")\n",
        "print(num_words)\n"
      ],
      "execution_count": null,
      "outputs": []
    },
    {
      "cell_type": "markdown",
      "metadata": {
        "id": "MVImXEDKmvIV",
        "colab_type": "text"
      },
      "source": [
        "#Python Program to count the occurrences of a word in a text file."
      ]
    },
    {
      "cell_type": "code",
      "metadata": {
        "id": "K45pMqj2mzV9",
        "colab_type": "code",
        "colab": {}
      },
      "source": [
        "fname = 'drive/My Drive/doc.txt'\n",
        "word=input(\"Enter word to be searched:\")\n",
        "k = 0\n",
        "\n",
        "with open(fname, 'r') as f:\n",
        "for line in f:\n",
        "words = line.split()\n",
        "for i in words:\n",
        "if(i==word):\n",
        "k=k+1\n",
        "print(\"Occurrences of the word:\")\n",
        "print(k)\n"
      ],
      "execution_count": null,
      "outputs": []
    },
    {
      "cell_type": "markdown",
      "metadata": {
        "id": "y0_chrksm3xc",
        "colab_type": "text"
      },
      "source": [
        "#Python Program to copy the contents of one file into another. "
      ]
    },
    {
      "cell_type": "code",
      "metadata": {
        "id": "YNAxjoB-m5lm",
        "colab_type": "code",
        "colab": {}
      },
      "source": [
        "file1 = 'drive/My Drive/sample1.txt'\n",
        "file2 = 'drive/My Drive/sample2.txt'\n",
        "\n",
        "with open(file1,'r') as f:\n",
        "  with open(file2, \"w\") as f1:\n",
        "    for line in f:\n",
        "      f1.write(line)\n"
      ],
      "execution_count": null,
      "outputs": []
    },
    {
      "cell_type": "markdown",
      "metadata": {
        "id": "fUkoYh4Qm-xe",
        "colab_type": "text"
      },
      "source": [
        "#Python Program to read the contents of the file in reverse order."
      ]
    },
    {
      "cell_type": "code",
      "metadata": {
        "id": "Mb6CjqylnBQu",
        "colab_type": "code",
        "colab": {}
      },
      "source": [
        "file = 'drive/My Drive/doc.txt'\n",
        "with open (file,'r') as f:\n",
        "for line in f:\n",
        "  l=line.split()\n",
        "  l.reverse() \n",
        "  st= \" \".join(l)\n",
        "print (st)\n"
      ],
      "execution_count": null,
      "outputs": []
    }
  ]
}
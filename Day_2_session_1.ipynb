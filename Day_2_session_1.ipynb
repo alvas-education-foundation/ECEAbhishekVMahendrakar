{
  "nbformat": 4,
  "nbformat_minor": 0,
  "metadata": {
    "colab": {
      "name": "Day-2 session-1.ipynb",
      "provenance": [],
      "collapsed_sections": [],
      "authorship_tag": "ABX9TyO5rzBfK6lmDaO+mb0xxaiH",
      "include_colab_link": true
    },
    "kernelspec": {
      "name": "python3",
      "display_name": "Python 3"
    }
  },
  "cells": [
    {
      "cell_type": "markdown",
      "metadata": {
        "id": "view-in-github",
        "colab_type": "text"
      },
      "source": [
        "<a href=\"https://colab.research.google.com/github/alvas-education-foundation/ECEAbhishekVMahendrakar/blob/master/Day_2_session_1.ipynb\" target=\"_parent\"><img src=\"https://colab.research.google.com/assets/colab-badge.svg\" alt=\"Open In Colab\"/></a>"
      ]
    },
    {
      "cell_type": "markdown",
      "metadata": {
        "id": "qlHisY1bafzl",
        "colab_type": "text"
      },
      "source": [
        "#Program to find the largest number in a list."
      ]
    },
    {
      "cell_type": "code",
      "metadata": {
        "id": "n_XxsBbxarvM",
        "colab_type": "code",
        "colab": {
          "base_uri": "https://localhost:8080/",
          "height": 134
        },
        "outputId": "8c7c32a3-4b84-4983-99c0-451d88658687"
      },
      "source": [
        "a=[]\n",
        "n=int(input(\"Enter number of elements:\"))\n",
        "for i in range(1,n+1):\n",
        "    b=int(input(\"Enter element:\"))\n",
        "    a.append(b)\n",
        "a.sort()\n",
        "print(\"Largest element is:\",a[n-1])\n"
      ],
      "execution_count": null,
      "outputs": [
        {
          "output_type": "stream",
          "text": [
            "Enter number of elements:5\n",
            "Enter element:5\n",
            "Enter element:3\n",
            "Enter element:6\n",
            "Enter element:2\n",
            "Enter element:7\n",
            "Largest element is: 7\n"
          ],
          "name": "stdout"
        }
      ]
    },
    {
      "cell_type": "markdown",
      "metadata": {
        "id": "eSm25WlebKsZ",
        "colab_type": "text"
      },
      "source": [
        "Pythonic code of the above example"
      ]
    },
    {
      "cell_type": "code",
      "metadata": {
        "id": "LVyC2WWcbWtN",
        "colab_type": "code",
        "colab": {
          "base_uri": "https://localhost:8080/",
          "height": 134
        },
        "outputId": "8479a7aa-83f1-47d0-c0ea-63faf6ffa1fc"
      },
      "source": [
        "x=0\n",
        "print('The greatest no is',max([int(input(x)) for _ in range(int(input(\"Enter no\")))]))\n"
      ],
      "execution_count": null,
      "outputs": [
        {
          "output_type": "stream",
          "text": [
            "Enter no5\n",
            "1\n",
            "4\n",
            "2\n",
            "8\n",
            "5\n",
            "The greatest no is 8\n"
          ],
          "name": "stdout"
        }
      ]
    },
    {
      "cell_type": "markdown",
      "metadata": {
        "id": "CeR0GFVMbv4y",
        "colab_type": "text"
      },
      "source": [
        "#Python Program to put the even and odd elements in a list into two different lists. "
      ]
    },
    {
      "cell_type": "code",
      "metadata": {
        "id": "jxgVJkrUb3cB",
        "colab_type": "code",
        "colab": {
          "base_uri": "https://localhost:8080/",
          "height": 151
        },
        "outputId": "8e1266be-4b92-4c1c-a9d5-de014a57c43e"
      },
      "source": [
        "a=[]\n",
        "n=int(input(\"Enter number of elements:\"))\n",
        "for i in range(1,n+1):\n",
        "    b=int(input(\"Enter element:\"))\n",
        "    a.append(b)\n",
        "even=[]\n",
        "odd=[]\n",
        "for j in a:\n",
        "    if(j%2==0):\n",
        "        even.append(j)\n",
        "    else:\n",
        "        odd.append(j)\n",
        "print(\"The even list\",even)\n",
        "print(\"The odd list\",odd)\n"
      ],
      "execution_count": null,
      "outputs": [
        {
          "output_type": "stream",
          "text": [
            "Enter number of elements:5\n",
            "Enter element:1\n",
            "Enter element:3\n",
            "Enter element:6\n",
            "Enter element:8\n",
            "Enter element:9\n",
            "The even list [6, 8]\n",
            "The odd list [1, 3, 9]\n"
          ],
          "name": "stdout"
        }
      ]
    },
    {
      "cell_type": "markdown",
      "metadata": {
        "id": "TM_WfZgycRh7",
        "colab_type": "text"
      },
      "source": [
        "Pythonic code for the above example"
      ]
    },
    {
      "cell_type": "code",
      "metadata": {
        "id": "Ixnd5osucTVD",
        "colab_type": "code",
        "colab": {
          "base_uri": "https://localhost:8080/",
          "height": 151
        },
        "outputId": "55d3026f-64d4-4ce9-e3e8-a49be8d74de9"
      },
      "source": [
        "x=0\n",
        "l=[int(input(x)) for _ in range(int(input(\"Enter n\")))]\n",
        "print('even list is',[ i for i in l if i%2])\n",
        "print('odd list is',[i for i in l if not i%2])\n"
      ],
      "execution_count": null,
      "outputs": [
        {
          "output_type": "stream",
          "text": [
            "Enter n5\n",
            "3\n",
            "5\n",
            "7\n",
            "8\n",
            "2\n",
            "even list is [3, 5, 7]\n",
            "odd list is [8, 2]\n"
          ],
          "name": "stdout"
        }
      ]
    },
    {
      "cell_type": "markdown",
      "metadata": {
        "id": "bFcXxAbUcedy",
        "colab_type": "text"
      },
      "source": [
        "#Python Program to merge two lists and sort it."
      ]
    },
    {
      "cell_type": "code",
      "metadata": {
        "id": "Kwh89jjYch3i",
        "colab_type": "code",
        "colab": {
          "base_uri": "https://localhost:8080/",
          "height": 269
        },
        "outputId": "e993c9ac-8be3-4b46-b22c-6b43cb25aec3"
      },
      "source": [
        "a=[]\n",
        "c=[]\n",
        "n1=int(input(\"Enter number of elements:\"))\n",
        "for i in range(1,n1+1):\n",
        "    b=int(input(\"Enter element:\"))\n",
        "    a.append(b)\n",
        "n2=int(input(\"Enter number of elements:\"))\n",
        "for i in range(1,n2+1):\n",
        "    d=int(input(\"Enter element:\"))\n",
        "    c.append(d)\n",
        "new=a+c\n",
        "new.sort()\n",
        "print(\"Sorted list is:\",new)\n"
      ],
      "execution_count": null,
      "outputs": [
        {
          "output_type": "stream",
          "text": [
            "Enter number of elements:5\n",
            "Enter element:1\n",
            "Enter element:3\n",
            "Enter element:2\n",
            "Enter element:6\n",
            "Enter element:4\n",
            "Enter number of elements:7\n",
            "Enter element:3\n",
            "Enter element:1\n",
            "Enter element:3\n",
            "Enter element:6\n",
            "Enter element:8\n",
            "Enter element:9\n",
            "Enter element:5\n",
            "Sorted list is: [1, 1, 2, 3, 3, 3, 4, 5, 6, 6, 8, 9]\n"
          ],
          "name": "stdout"
        }
      ]
    },
    {
      "cell_type": "markdown",
      "metadata": {
        "id": "6fhuIyQvcwlC",
        "colab_type": "text"
      },
      "source": [
        "Pythonic code for the above example"
      ]
    },
    {
      "cell_type": "code",
      "metadata": {
        "id": "oDIDEw0bc0qy",
        "colab_type": "code",
        "colab": {
          "base_uri": "https://localhost:8080/",
          "height": 252
        },
        "outputId": "f37005e7-32fb-4d89-ff27-69e6e785cd88"
      },
      "source": [
        "x=0\n",
        "l=[int(input(x)) for _ in range(int(input(\"Enter how many elements\")))]\n",
        "m=[int(input(x)) for _ in range(int(input(\"Enter how many elements \")))]\n",
        "new=l+m\n",
        "new.sort()\n",
        "print(\"Sorted list is:\",new)\n"
      ],
      "execution_count": null,
      "outputs": [
        {
          "output_type": "stream",
          "text": [
            "Enter how many elements5\n",
            "1\n",
            "3\n",
            "2\n",
            "5\n",
            "7\n",
            "Enter how many elements 6\n",
            "1\n",
            "4\n",
            "6\n",
            "8\n",
            "9\n",
            "5\n",
            "Sorted list is: [1, 1, 2, 3, 4, 5, 5, 6, 7, 8, 9]\n"
          ],
          "name": "stdout"
        }
      ]
    },
    {
      "cell_type": "markdown",
      "metadata": {
        "id": "Xn71tiyhdKna",
        "colab_type": "text"
      },
      "source": [
        "#Python Program to sort the list according to the second element in the sublist."
      ]
    },
    {
      "cell_type": "code",
      "metadata": {
        "id": "tuEVFjS9dPPS",
        "colab_type": "code",
        "colab": {
          "base_uri": "https://localhost:8080/",
          "height": 34
        },
        "outputId": "d3104421-dae6-48de-f6b2-8bbf6029e418"
      },
      "source": [
        "a=[['A',34],['B',21],['C',26],['E',29]]\n",
        "for i in range(0,len(a)):\n",
        "    for j in range(i+1,len(a)):\n",
        "        if(a[i][1]>a[j][1]):\n",
        "            temp=a[j]\n",
        "            a[j]=a[i]\n",
        "            a[i]=temp\n",
        "print(a)\n"
      ],
      "execution_count": null,
      "outputs": [
        {
          "output_type": "stream",
          "text": [
            "[['B', 21], ['C', 26], ['E', 29], ['A', 34]]\n"
          ],
          "name": "stdout"
        }
      ]
    },
    {
      "cell_type": "markdown",
      "metadata": {
        "id": "tH0a98FPditF",
        "colab_type": "text"
      },
      "source": [
        "Pythonic code for the above example"
      ]
    },
    {
      "cell_type": "code",
      "metadata": {
        "id": "aaNPRNTHdp3i",
        "colab_type": "code",
        "colab": {
          "base_uri": "https://localhost:8080/",
          "height": 34
        },
        "outputId": "db748730-1675-4ac8-8014-c3123995a446"
      },
      "source": [
        "a=[['A',34],['B',21],['C',26],['E',29]]\n",
        "a.sort(key = lambda x: x[1]) \n",
        "print(a)\n"
      ],
      "execution_count": null,
      "outputs": [
        {
          "output_type": "stream",
          "text": [
            "[['B', 21], ['C', 26], ['E', 29], ['A', 34]]\n"
          ],
          "name": "stdout"
        }
      ]
    },
    {
      "cell_type": "markdown",
      "metadata": {
        "id": "MSuLagB6dzcC",
        "colab_type": "text"
      },
      "source": [
        "#Python Program to find the second largest number in a list "
      ]
    },
    {
      "cell_type": "code",
      "metadata": {
        "id": "W_pN_ewdd2hT",
        "colab_type": "code",
        "colab": {
          "base_uri": "https://localhost:8080/",
          "height": 134
        },
        "outputId": "6f25fa75-769b-49c5-97ab-74664dd368bd"
      },
      "source": [
        "a=[]\n",
        "n=int(input(\"Enter number of elements:\"))\n",
        "for i in range(1,n+1):\n",
        "    b=int(input(\"Enter element:\"))\n",
        "    a.append(b)\n",
        "for i in range(0,len(a)):\n",
        "    for j in range(0,len(a)-i-1):\n",
        "        if(a[j]>a[j+1]):\n",
        "            temp=a[j]\n",
        "            a[j]=a[j+1]\n",
        "            a[j+1]=temp \n",
        "print('Second largest number is:',a[n-2])\n"
      ],
      "execution_count": null,
      "outputs": [
        {
          "output_type": "stream",
          "text": [
            "Enter number of elements:5\n",
            "Enter element:3\n",
            "Enter element:5\n",
            "Enter element:3\n",
            "Enter element:2\n",
            "Enter element:1\n",
            "Second largest number is: 3\n"
          ],
          "name": "stdout"
        }
      ]
    },
    {
      "cell_type": "markdown",
      "metadata": {
        "id": "3ckzYQxBeDNS",
        "colab_type": "text"
      },
      "source": [
        "Pythonic code for the above example"
      ]
    },
    {
      "cell_type": "code",
      "metadata": {
        "id": "KqzM8OWpeJBi",
        "colab_type": "code",
        "colab": {
          "base_uri": "https://localhost:8080/",
          "height": 134
        },
        "outputId": "801b953a-1390-48b3-e5e1-f6d38e472851"
      },
      "source": [
        "x=0\n",
        "l=[int(input(x)) for _ in range(int(input(\"Enter how many elements\")))]\n",
        "l.sort()\n",
        "print(\"Second largest element is :\",l[-2])\n"
      ],
      "execution_count": null,
      "outputs": [
        {
          "output_type": "stream",
          "text": [
            "Enter how many elements5\n",
            "1\n",
            "4\n",
            "6\n",
            "7\n",
            "9\n",
            "Second largest element is : 7\n"
          ],
          "name": "stdout"
        }
      ]
    },
    {
      "cell_type": "markdown",
      "metadata": {
        "id": "Jf-M2XGIeRWK",
        "colab_type": "text"
      },
      "source": [
        "#Program to create a list of tuples with the first element as the number and the second element as the square of the number. "
      ]
    },
    {
      "cell_type": "code",
      "metadata": {
        "id": "iRhJcqqxeW7S",
        "colab_type": "code",
        "colab": {
          "base_uri": "https://localhost:8080/",
          "height": 67
        },
        "outputId": "0c72296e-c006-4521-f76c-35d4344238eb"
      },
      "source": [
        "l_range=int(input(\"Enter the lower range:\"))\n",
        "u_range=int(input(\"Enter the upper range:\"))\n",
        "a=[(x,x**2) for x in range(l_range,u_range+1)]\n",
        "print(a)\n"
      ],
      "execution_count": null,
      "outputs": [
        {
          "output_type": "stream",
          "text": [
            "Enter the lower range:2\n",
            "Enter the upper range:19\n",
            "[(2, 4), (3, 9), (4, 16), (5, 25), (6, 36), (7, 49), (8, 64), (9, 81), (10, 100), (11, 121), (12, 144), (13, 169), (14, 196), (15, 225), (16, 256), (17, 289), (18, 324), (19, 361)]\n"
          ],
          "name": "stdout"
        }
      ]
    },
    {
      "cell_type": "markdown",
      "metadata": {
        "id": "y0ZbN203epWK",
        "colab_type": "text"
      },
      "source": [
        "Pythonic code for the above example"
      ]
    },
    {
      "cell_type": "code",
      "metadata": {
        "id": "hyzPgeYLesmS",
        "colab_type": "code",
        "colab": {
          "base_uri": "https://localhost:8080/",
          "height": 67
        },
        "outputId": "907a9e07-2fc6-49e9-8359-301c203daa2a"
      },
      "source": [
        "a=[(x,x**2) for x in range(int(input(\"Enter the lower range:\")),\\\n",
        "                           int(input(\"Enter the upper range:\"))+1)]\n",
        "print(a)\n"
      ],
      "execution_count": null,
      "outputs": [
        {
          "output_type": "stream",
          "text": [
            "Enter the lower range:2\n",
            "Enter the upper range:19\n",
            "[(2, 4), (3, 9), (4, 16), (5, 25), (6, 36), (7, 49), (8, 64), (9, 81), (10, 100), (11, 121), (12, 144), (13, 169), (14, 196), (15, 225), (16, 256), (17, 289), (18, 324), (19, 361)]\n"
          ],
          "name": "stdout"
        }
      ]
    },
    {
      "cell_type": "markdown",
      "metadata": {
        "id": "nh853o5Ne6C0",
        "colab_type": "text"
      },
      "source": [
        "#Python Program to generate random numbers from 1 to 20 and append them to the list."
      ]
    },
    {
      "cell_type": "code",
      "metadata": {
        "id": "-SHVuw73fCCY",
        "colab_type": "code",
        "colab": {
          "base_uri": "https://localhost:8080/",
          "height": 50
        },
        "outputId": "2e45a31c-b69e-4b42-c6e8-121e94c1de35"
      },
      "source": [
        "import random\n",
        "a=[]\n",
        "n=int(input(\"Enter number of elements:\"))\n",
        "for j in range(n):\n",
        "    a.append(random.randint(1,20))\n",
        "print('Randomised list is: ',a)\n"
      ],
      "execution_count": null,
      "outputs": [
        {
          "output_type": "stream",
          "text": [
            "Enter number of elements:5\n",
            "Randomised list is:  [9, 7, 14, 13, 2]\n"
          ],
          "name": "stdout"
        }
      ]
    },
    {
      "cell_type": "markdown",
      "metadata": {
        "id": "FawqQwUxfKcd",
        "colab_type": "text"
      },
      "source": [
        "#Exercise"
      ]
    },
    {
      "cell_type": "markdown",
      "metadata": {
        "id": "iA5MUZWEfXOr",
        "colab_type": "text"
      },
      "source": [
        "1. Print multiples of 3 upto 200 using a list"
      ]
    },
    {
      "cell_type": "code",
      "metadata": {
        "id": "4C3yJ_tXfbXC",
        "colab_type": "code",
        "colab": {
          "base_uri": "https://localhost:8080/",
          "height": 54
        },
        "outputId": "f84e4895-f49e-40f6-cd5c-7cf62b9abb87"
      },
      "source": [
        "a=[]\n",
        "for x in range(200):\n",
        "  if x%3==0:\n",
        "    a.append(x)\n",
        "print(a)"
      ],
      "execution_count": null,
      "outputs": [
        {
          "output_type": "stream",
          "text": [
            "[0, 3, 6, 9, 12, 15, 18, 21, 24, 27, 30, 33, 36, 39, 42, 45, 48, 51, 54, 57, 60, 63, 66, 69, 72, 75, 78, 81, 84, 87, 90, 93, 96, 99, 102, 105, 108, 111, 114, 117, 120, 123, 126, 129, 132, 135, 138, 141, 144, 147, 150, 153, 156, 159, 162, 165, 168, 171, 174, 177, 180, 183, 186, 189, 192, 195, 198]\n"
          ],
          "name": "stdout"
        }
      ]
    },
    {
      "cell_type": "markdown",
      "metadata": {
        "id": "QGlV1i1ahxSE",
        "colab_type": "text"
      },
      "source": [
        "2. Print the nos only divisable by 5 and 7 between 1000 and 2000 using a list( both inclusive)"
      ]
    },
    {
      "cell_type": "code",
      "metadata": {
        "id": "Y-D0zv88qEfl",
        "colab_type": "code",
        "colab": {
          "base_uri": "https://localhost:8080/",
          "height": 34
        },
        "outputId": "e6fa58e1-5847-401d-f0e8-a4d617529738"
      },
      "source": [
        "a=[]\n",
        "for i in range(1000,2001):\n",
        "  if i%5==0 and i%7==0:\n",
        "    a.append(i)\n",
        "print(a)\n"
      ],
      "execution_count": null,
      "outputs": [
        {
          "output_type": "stream",
          "text": [
            "[1015, 1050, 1085, 1120, 1155, 1190, 1225, 1260, 1295, 1330, 1365, 1400, 1435, 1470, 1505, 1540, 1575, 1610, 1645, 1680, 1715, 1750, 1785, 1820, 1855, 1890, 1925, 1960, 1995]\n"
          ],
          "name": "stdout"
        }
      ]
    },
    {
      "cell_type": "markdown",
      "metadata": {
        "id": "XD8Xk3CXqjAq",
        "colab_type": "text"
      },
      "source": [
        "3. Add the n number of names in a list and print them alphabetically and reverse alphabetically."
      ]
    },
    {
      "cell_type": "code",
      "metadata": {
        "id": "rOwSDyCjqlhK",
        "colab_type": "code",
        "colab": {
          "base_uri": "https://localhost:8080/",
          "height": 101
        },
        "outputId": "e3dad330-b095-4986-b825-0fb50f72274e"
      },
      "source": [
        "a=[]\n",
        "for i in range(int(input(\"Enter the number of names in the list\"))):\n",
        "  a.append(input(\"Enter the name: \").lower())\n",
        "print(sorted(a))"
      ],
      "execution_count": null,
      "outputs": [
        {
          "output_type": "stream",
          "text": [
            "Enter the number of names in the list3\n",
            "Enter the name: Crc\n",
            "Enter the name: crt\n",
            "Enter the name: art\n",
            "['art', 'crc', 'crt']\n"
          ],
          "name": "stdout"
        }
      ]
    },
    {
      "cell_type": "markdown",
      "metadata": {
        "id": "7-_48Pn6tiE7",
        "colab_type": "text"
      },
      "source": [
        "4. Print  perfect squares and divisible by 5 between 500 and 1000( (both inclusive) using list"
      ]
    },
    {
      "cell_type": "code",
      "metadata": {
        "id": "3vanq3ldtoRA",
        "colab_type": "code",
        "colab": {
          "base_uri": "https://localhost:8080/",
          "height": 34
        },
        "outputId": "a5847231-3587-4786-fdf4-884002633455"
      },
      "source": [
        "import math as m\n",
        "a=[]\n",
        "for i in range(500,1001):\n",
        "  if m.sqrt(i).is_integer() and i%5==0:\n",
        "    a.append(i)\n",
        "print(a)"
      ],
      "execution_count": null,
      "outputs": [
        {
          "output_type": "stream",
          "text": [
            "[625, 900]\n"
          ],
          "name": "stdout"
        }
      ]
    },
    {
      "cell_type": "markdown",
      "metadata": {
        "id": "1Noh_hE7veBC",
        "colab_type": "text"
      },
      "source": [
        "5.Calculate the Average of  the numbers in a List by getting the elements of list from keyboard ."
      ]
    },
    {
      "cell_type": "code",
      "metadata": {
        "id": "zNKsZsY4vi6Y",
        "colab_type": "code",
        "colab": {
          "base_uri": "https://localhost:8080/",
          "height": 134
        },
        "outputId": "cacd4703-44e8-4dcd-c02d-eaabdaa9f03f"
      },
      "source": [
        "a=[int(input(\"Enter the number: \")) for _ in range(int(input(\"Enter the number of elements: \")))]\n",
        "sum=sum(a)\n",
        "l=len(a)\n",
        "print(\"The average of all the elements in the list= \",sum/l)"
      ],
      "execution_count": null,
      "outputs": [
        {
          "output_type": "stream",
          "text": [
            "Enter the number of elements: 5\n",
            "Enter the number: 1\n",
            "Enter the number: 2\n",
            "Enter the number: 3\n",
            "Enter the number: 4\n",
            "Enter the number: 5\n",
            "The average of all the elements in the list=  3.0\n"
          ],
          "name": "stdout"
        }
      ]
    },
    {
      "cell_type": "markdown",
      "metadata": {
        "id": "7RStUM7pwe8D",
        "colab_type": "text"
      },
      "source": [
        "6. Print lists of odd,even and multiples of 5 numbers from 1 to 1000 using list comprehension"
      ]
    },
    {
      "cell_type": "code",
      "metadata": {
        "id": "l9Ip1-ZMwhVx",
        "colab_type": "code",
        "colab": {
          "base_uri": "https://localhost:8080/",
          "height": 87
        },
        "outputId": "71b12913-cf00-4b8c-e8e7-46275b275c1b"
      },
      "source": [
        "even=[]\n",
        "odd=[]\n",
        "mul5=[]\n",
        "for x in range(1,1001):\n",
        "  if x%2==0:\n",
        "    even.append(x)\n",
        "  if x%2==1:\n",
        "    odd.append(x)\n",
        "  if x%5==0:\n",
        "    mul5.append(x)\n",
        "print(\"Even list: \",even)\n",
        "print(\"Odd list: \",odd)\n",
        "print(\"Multiples of 5: \",mul5)"
      ],
      "execution_count": null,
      "outputs": [
        {
          "output_type": "stream",
          "text": [
            "Even list:  [2, 4, 6, 8, 10, 12, 14, 16, 18, 20, 22, 24, 26, 28, 30, 32, 34, 36, 38, 40, 42, 44, 46, 48, 50, 52, 54, 56, 58, 60, 62, 64, 66, 68, 70, 72, 74, 76, 78, 80, 82, 84, 86, 88, 90, 92, 94, 96, 98, 100, 102, 104, 106, 108, 110, 112, 114, 116, 118, 120, 122, 124, 126, 128, 130, 132, 134, 136, 138, 140, 142, 144, 146, 148, 150, 152, 154, 156, 158, 160, 162, 164, 166, 168, 170, 172, 174, 176, 178, 180, 182, 184, 186, 188, 190, 192, 194, 196, 198, 200, 202, 204, 206, 208, 210, 212, 214, 216, 218, 220, 222, 224, 226, 228, 230, 232, 234, 236, 238, 240, 242, 244, 246, 248, 250, 252, 254, 256, 258, 260, 262, 264, 266, 268, 270, 272, 274, 276, 278, 280, 282, 284, 286, 288, 290, 292, 294, 296, 298, 300, 302, 304, 306, 308, 310, 312, 314, 316, 318, 320, 322, 324, 326, 328, 330, 332, 334, 336, 338, 340, 342, 344, 346, 348, 350, 352, 354, 356, 358, 360, 362, 364, 366, 368, 370, 372, 374, 376, 378, 380, 382, 384, 386, 388, 390, 392, 394, 396, 398, 400, 402, 404, 406, 408, 410, 412, 414, 416, 418, 420, 422, 424, 426, 428, 430, 432, 434, 436, 438, 440, 442, 444, 446, 448, 450, 452, 454, 456, 458, 460, 462, 464, 466, 468, 470, 472, 474, 476, 478, 480, 482, 484, 486, 488, 490, 492, 494, 496, 498, 500, 502, 504, 506, 508, 510, 512, 514, 516, 518, 520, 522, 524, 526, 528, 530, 532, 534, 536, 538, 540, 542, 544, 546, 548, 550, 552, 554, 556, 558, 560, 562, 564, 566, 568, 570, 572, 574, 576, 578, 580, 582, 584, 586, 588, 590, 592, 594, 596, 598, 600, 602, 604, 606, 608, 610, 612, 614, 616, 618, 620, 622, 624, 626, 628, 630, 632, 634, 636, 638, 640, 642, 644, 646, 648, 650, 652, 654, 656, 658, 660, 662, 664, 666, 668, 670, 672, 674, 676, 678, 680, 682, 684, 686, 688, 690, 692, 694, 696, 698, 700, 702, 704, 706, 708, 710, 712, 714, 716, 718, 720, 722, 724, 726, 728, 730, 732, 734, 736, 738, 740, 742, 744, 746, 748, 750, 752, 754, 756, 758, 760, 762, 764, 766, 768, 770, 772, 774, 776, 778, 780, 782, 784, 786, 788, 790, 792, 794, 796, 798, 800, 802, 804, 806, 808, 810, 812, 814, 816, 818, 820, 822, 824, 826, 828, 830, 832, 834, 836, 838, 840, 842, 844, 846, 848, 850, 852, 854, 856, 858, 860, 862, 864, 866, 868, 870, 872, 874, 876, 878, 880, 882, 884, 886, 888, 890, 892, 894, 896, 898, 900, 902, 904, 906, 908, 910, 912, 914, 916, 918, 920, 922, 924, 926, 928, 930, 932, 934, 936, 938, 940, 942, 944, 946, 948, 950, 952, 954, 956, 958, 960, 962, 964, 966, 968, 970, 972, 974, 976, 978, 980, 982, 984, 986, 988, 990, 992, 994, 996, 998, 1000]\n",
            "Odd list:  [1, 3, 5, 7, 9, 11, 13, 15, 17, 19, 21, 23, 25, 27, 29, 31, 33, 35, 37, 39, 41, 43, 45, 47, 49, 51, 53, 55, 57, 59, 61, 63, 65, 67, 69, 71, 73, 75, 77, 79, 81, 83, 85, 87, 89, 91, 93, 95, 97, 99, 101, 103, 105, 107, 109, 111, 113, 115, 117, 119, 121, 123, 125, 127, 129, 131, 133, 135, 137, 139, 141, 143, 145, 147, 149, 151, 153, 155, 157, 159, 161, 163, 165, 167, 169, 171, 173, 175, 177, 179, 181, 183, 185, 187, 189, 191, 193, 195, 197, 199, 201, 203, 205, 207, 209, 211, 213, 215, 217, 219, 221, 223, 225, 227, 229, 231, 233, 235, 237, 239, 241, 243, 245, 247, 249, 251, 253, 255, 257, 259, 261, 263, 265, 267, 269, 271, 273, 275, 277, 279, 281, 283, 285, 287, 289, 291, 293, 295, 297, 299, 301, 303, 305, 307, 309, 311, 313, 315, 317, 319, 321, 323, 325, 327, 329, 331, 333, 335, 337, 339, 341, 343, 345, 347, 349, 351, 353, 355, 357, 359, 361, 363, 365, 367, 369, 371, 373, 375, 377, 379, 381, 383, 385, 387, 389, 391, 393, 395, 397, 399, 401, 403, 405, 407, 409, 411, 413, 415, 417, 419, 421, 423, 425, 427, 429, 431, 433, 435, 437, 439, 441, 443, 445, 447, 449, 451, 453, 455, 457, 459, 461, 463, 465, 467, 469, 471, 473, 475, 477, 479, 481, 483, 485, 487, 489, 491, 493, 495, 497, 499, 501, 503, 505, 507, 509, 511, 513, 515, 517, 519, 521, 523, 525, 527, 529, 531, 533, 535, 537, 539, 541, 543, 545, 547, 549, 551, 553, 555, 557, 559, 561, 563, 565, 567, 569, 571, 573, 575, 577, 579, 581, 583, 585, 587, 589, 591, 593, 595, 597, 599, 601, 603, 605, 607, 609, 611, 613, 615, 617, 619, 621, 623, 625, 627, 629, 631, 633, 635, 637, 639, 641, 643, 645, 647, 649, 651, 653, 655, 657, 659, 661, 663, 665, 667, 669, 671, 673, 675, 677, 679, 681, 683, 685, 687, 689, 691, 693, 695, 697, 699, 701, 703, 705, 707, 709, 711, 713, 715, 717, 719, 721, 723, 725, 727, 729, 731, 733, 735, 737, 739, 741, 743, 745, 747, 749, 751, 753, 755, 757, 759, 761, 763, 765, 767, 769, 771, 773, 775, 777, 779, 781, 783, 785, 787, 789, 791, 793, 795, 797, 799, 801, 803, 805, 807, 809, 811, 813, 815, 817, 819, 821, 823, 825, 827, 829, 831, 833, 835, 837, 839, 841, 843, 845, 847, 849, 851, 853, 855, 857, 859, 861, 863, 865, 867, 869, 871, 873, 875, 877, 879, 881, 883, 885, 887, 889, 891, 893, 895, 897, 899, 901, 903, 905, 907, 909, 911, 913, 915, 917, 919, 921, 923, 925, 927, 929, 931, 933, 935, 937, 939, 941, 943, 945, 947, 949, 951, 953, 955, 957, 959, 961, 963, 965, 967, 969, 971, 973, 975, 977, 979, 981, 983, 985, 987, 989, 991, 993, 995, 997, 999]\n",
            "Multiples of 5:  [5, 10, 15, 20, 25, 30, 35, 40, 45, 50, 55, 60, 65, 70, 75, 80, 85, 90, 95, 100, 105, 110, 115, 120, 125, 130, 135, 140, 145, 150, 155, 160, 165, 170, 175, 180, 185, 190, 195, 200, 205, 210, 215, 220, 225, 230, 235, 240, 245, 250, 255, 260, 265, 270, 275, 280, 285, 290, 295, 300, 305, 310, 315, 320, 325, 330, 335, 340, 345, 350, 355, 360, 365, 370, 375, 380, 385, 390, 395, 400, 405, 410, 415, 420, 425, 430, 435, 440, 445, 450, 455, 460, 465, 470, 475, 480, 485, 490, 495, 500, 505, 510, 515, 520, 525, 530, 535, 540, 545, 550, 555, 560, 565, 570, 575, 580, 585, 590, 595, 600, 605, 610, 615, 620, 625, 630, 635, 640, 645, 650, 655, 660, 665, 670, 675, 680, 685, 690, 695, 700, 705, 710, 715, 720, 725, 730, 735, 740, 745, 750, 755, 760, 765, 770, 775, 780, 785, 790, 795, 800, 805, 810, 815, 820, 825, 830, 835, 840, 845, 850, 855, 860, 865, 870, 875, 880, 885, 890, 895, 900, 905, 910, 915, 920, 925, 930, 935, 940, 945, 950, 955, 960, 965, 970, 975, 980, 985, 990, 995, 1000]\n"
          ],
          "name": "stdout"
        }
      ]
    },
    {
      "cell_type": "markdown",
      "metadata": {
        "id": "YZ5j_4YYxuNK",
        "colab_type": "text"
      },
      "source": [
        "#Tuple exercises"
      ]
    },
    {
      "cell_type": "markdown",
      "metadata": {
        "id": "iqvFTdMNhM23",
        "colab_type": "text"
      },
      "source": [
        "1. Python Program to Create a List of Tuples with the First Element as the Number and Second Element as the Square of the Number "
      ]
    },
    {
      "cell_type": "code",
      "metadata": {
        "id": "uX2q_vXzhPFE",
        "colab_type": "code",
        "colab": {
          "base_uri": "https://localhost:8080/",
          "height": 67
        },
        "outputId": "22647d62-a2ed-44da-d8f7-042563c5d705"
      },
      "source": [
        "a=[]\n",
        "for x in range(int(input(\"Enter the lower boundary\")),int(input(\"Enter the upper boundary\"))+1):\n",
        "  a.append((x,x**2))\n",
        "print(a)"
      ],
      "execution_count": null,
      "outputs": [
        {
          "output_type": "stream",
          "text": [
            "Enter the lower boundary3\n",
            "Enter the upper boundary9\n",
            "[(3, 9), (4, 16), (5, 25), (6, 36), (7, 49), (8, 64), (9, 81)]\n"
          ],
          "name": "stdout"
        }
      ]
    },
    {
      "cell_type": "markdown",
      "metadata": {
        "id": "gcncW7Ogj2yY",
        "colab_type": "text"
      },
      "source": [
        "2. Write python program to have a list of words  to sort them from  shortest to longest using list of tuples"
      ]
    },
    {
      "cell_type": "code",
      "metadata": {
        "id": "iylGrs2Hj5gT",
        "colab_type": "code",
        "colab": {
          "base_uri": "https://localhost:8080/",
          "height": 151
        },
        "outputId": "34f1eac2-e4c0-4210-a41c-fa860de39720"
      },
      "source": [
        "w= input(\"Enter the word: \")\n",
        "arr=[]\n",
        "while w!=\"\":\n",
        "  arr.append((len(w),w))\n",
        "  w= input(\"Enter the word: \")\n",
        "arr.sort()\n",
        "\n",
        "s=[]\n",
        "for l,x in arr:\n",
        "  s.append(x)\n",
        "print(s)"
      ],
      "execution_count": null,
      "outputs": [
        {
          "output_type": "stream",
          "text": [
            "Enter the word: abhi\n",
            "Enter the word: shek\n",
            "Enter the word: an\n",
            "Enter the word: isnt\n",
            "Enter the word: why\n",
            "Enter the word: there\n",
            "Enter the word: \n",
            "['an', 'why', 'abhi', 'isnt', 'shek', 'there']\n"
          ],
          "name": "stdout"
        }
      ]
    },
    {
      "cell_type": "markdown",
      "metadata": {
        "id": "z5eo7QxOmIpW",
        "colab_type": "text"
      },
      "source": [
        "3.Write python program to get a list of tuples of Rollno,Name for 5 students through keyboard and sort them Rollno wise ascending order"
      ]
    },
    {
      "cell_type": "code",
      "metadata": {
        "id": "C4HHJJagmMhT",
        "colab_type": "code",
        "colab": {
          "base_uri": "https://localhost:8080/",
          "height": 151
        },
        "outputId": "b72a0ea7-adc6-47d0-8ee1-f288c3f4c628"
      },
      "source": [
        "n= int(input(\"Enter the number of students: \"))\n",
        "arr=[]\n",
        "\n",
        "for x in range(n):\n",
        "  arr.append((int(input(\"Enter the roll number of the student: \")), input(\"Enter the name of the student: \")))\n",
        "arr.sort()\n",
        "print(\"The sorted array is: \",arr)\n"
      ],
      "execution_count": null,
      "outputs": [
        {
          "output_type": "stream",
          "text": [
            "Enter the number of students: 3\n",
            "Enter the roll number of the student: 2\n",
            "Enter the name of the student: b\n",
            "Enter the roll number of the student: 3\n",
            "Enter the name of the student: c\n",
            "Enter the roll number of the student: 1\n",
            "Enter the name of the student: a\n",
            "The sorted array is:  [(1, 'a'), (2, 'b'), (3, 'c')]\n"
          ],
          "name": "stdout"
        }
      ]
    },
    {
      "cell_type": "code",
      "metadata": {
        "id": "PSzIjPJxIKh9",
        "colab_type": "code",
        "colab": {}
      },
      "source": [
        ""
      ],
      "execution_count": null,
      "outputs": []
    },
    {
      "cell_type": "markdown",
      "metadata": {
        "id": "Pz3hCTqgEx47",
        "colab_type": "text"
      },
      "source": [
        "4.Write python program to get a list of tuples of Rollno,Name for 5 students through keyboard and sort them by Rollno wise descending order"
      ]
    },
    {
      "cell_type": "code",
      "metadata": {
        "id": "R6ILJyQkE0zm",
        "colab_type": "code",
        "colab": {
          "base_uri": "https://localhost:8080/",
          "height": 151
        },
        "outputId": "641a7c37-0438-4695-fa8f-4da8cd5f0983"
      },
      "source": [
        "n= int(input(\"Enter the number of students: \"))\n",
        "arr=[]\n",
        "\n",
        "for x in range(n):\n",
        "  arr.append((int(input(\"Enter the roll number of the student: \")), input(\"Enter the name of the student: \")))\n",
        "arr.sort(reverse= True)\n",
        "print(\"The sorted array is: \",arr)"
      ],
      "execution_count": null,
      "outputs": [
        {
          "output_type": "stream",
          "text": [
            "Enter the number of students: 3\n",
            "Enter the roll number of the student: 2\n",
            "Enter the name of the student: a\n",
            "Enter the roll number of the student: 3\n",
            "Enter the name of the student: b\n",
            "Enter the roll number of the student: 1\n",
            "Enter the name of the student: c\n",
            "The sorted array is:  [(3, 'b'), (2, 'a'), (1, 'c')]\n"
          ],
          "name": "stdout"
        }
      ]
    },
    {
      "cell_type": "markdown",
      "metadata": {
        "id": "PDloSEj_FGvu",
        "colab_type": "text"
      },
      "source": [
        "5.Write python program to get a list of tuples of Rollno,Name for 5 students through keyboard and sort them by Name wise ascending order"
      ]
    },
    {
      "cell_type": "code",
      "metadata": {
        "id": "IenY6j2VFHfn",
        "colab_type": "code",
        "colab": {
          "base_uri": "https://localhost:8080/",
          "height": 151
        },
        "outputId": "ee02ca8b-38d4-4bbe-b516-98db456afd42"
      },
      "source": [
        "n= int(input(\"Enter the number of students: \"))\n",
        "arr=[]\n",
        "\n",
        "for x in range(n):\n",
        "  arr.append((int(input(\"Enter the roll number of the student: \")), input(\"Enter the name of the student: \")))\n",
        "sorted_list=sorted(arr,key= lambda x:x[1])\n",
        "print(\"The sorted array is: \",sorted_list)"
      ],
      "execution_count": null,
      "outputs": [
        {
          "output_type": "stream",
          "text": [
            "Enter the number of students: 3\n",
            "Enter the roll number of the student: 2\n",
            "Enter the name of the student: b\n",
            "Enter the roll number of the student: 3\n",
            "Enter the name of the student: c\n",
            "Enter the roll number of the student: 1\n",
            "Enter the name of the student: a\n",
            "The sorted array is:  [(1, 'a'), (2, 'b'), (3, 'c')]\n"
          ],
          "name": "stdout"
        }
      ]
    },
    {
      "cell_type": "markdown",
      "metadata": {
        "id": "nUrI02AZIJvS",
        "colab_type": "text"
      },
      "source": [
        "6.Write python program to get a list of tuples of Rollno,Name for 5 students through keyboard and sort them by Name wise descending order"
      ]
    },
    {
      "cell_type": "code",
      "metadata": {
        "id": "_i6Bpph5JACA",
        "colab_type": "code",
        "colab": {
          "base_uri": "https://localhost:8080/",
          "height": 151
        },
        "outputId": "ceb35d13-4d76-4d7d-ed16-42390b4d6d66"
      },
      "source": [
        "n= int(input(\"Enter the number of students: \"))\n",
        "arr=[]\n",
        "\n",
        "for x in range(n):\n",
        "  arr.append((int(input(\"Enter the roll number of the student: \")), input(\"Enter the name of the student: \")))\n",
        "sorted_list=sorted(arr,key= lambda x:x[1],reverse= True)\n",
        "print(\"The sorted array is: \",sorted_list)"
      ],
      "execution_count": null,
      "outputs": [
        {
          "output_type": "stream",
          "text": [
            "Enter the number of students: 3\n",
            "Enter the roll number of the student: 2\n",
            "Enter the name of the student: b\n",
            "Enter the roll number of the student: 3\n",
            "Enter the name of the student: c\n",
            "Enter the roll number of the student: 1\n",
            "Enter the name of the student: a\n",
            "The sorted array is:  [(3, 'c'), (2, 'b'), (1, 'a')]\n"
          ],
          "name": "stdout"
        }
      ]
    }
  ]
}
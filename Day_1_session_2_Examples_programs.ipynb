{
  "nbformat": 4,
  "nbformat_minor": 0,
  "metadata": {
    "colab": {
      "name": "Day-1 session-2 Examples programs.ipynb",
      "provenance": [],
      "authorship_tag": "ABX9TyMwZ4sZvWsELMm5UJOLCeMo",
      "include_colab_link": true
    },
    "kernelspec": {
      "name": "python3",
      "display_name": "Python 3"
    }
  },
  "cells": [
    {
      "cell_type": "markdown",
      "metadata": {
        "id": "view-in-github",
        "colab_type": "text"
      },
      "source": [
        "<a href=\"https://colab.research.google.com/github/alvas-education-foundation/ECEAbhishekVMahendrakar/blob/master/Day_1_session_2_Examples_programs.ipynb\" target=\"_parent\"><img src=\"https://colab.research.google.com/assets/colab-badge.svg\" alt=\"Open In Colab\"/></a>"
      ]
    },
    {
      "cell_type": "markdown",
      "metadata": {
        "id": "RnCEF4hCn0aP",
        "colab_type": "text"
      },
      "source": [
        "#Python Program to find the factorial of a number using loop. "
      ]
    },
    {
      "cell_type": "code",
      "metadata": {
        "id": "aUJ9RJVvn39l",
        "colab_type": "code",
        "colab": {
          "base_uri": "https://localhost:8080/",
          "height": 67
        },
        "outputId": "e6536e01-b889-48e7-b875-b3465882f46d"
      },
      "source": [
        "n=int(input(\"Enter number:\"))\n",
        "fact=1\n",
        "\n",
        "while(n>0):\n",
        "    fact=fact*n\n",
        "    n=n-1\n",
        "print(\"Factorial of the number is: \")\n",
        "print(fact)\n"
      ],
      "execution_count": null,
      "outputs": [
        {
          "output_type": "stream",
          "text": [
            "Enter number:4\n",
            "Factorial of the number is: \n",
            "24\n"
          ],
          "name": "stdout"
        }
      ]
    },
    {
      "cell_type": "markdown",
      "metadata": {
        "id": "dacSKmbKoA28",
        "colab_type": "text"
      },
      "source": [
        "#Python Program to reverse a number using loop "
      ]
    },
    {
      "cell_type": "code",
      "metadata": {
        "id": "rVYFCEm4oDhd",
        "colab_type": "code",
        "colab": {
          "base_uri": "https://localhost:8080/",
          "height": 67
        },
        "outputId": "59aa4983-2e42-4e37-86ed-28148b2086ae"
      },
      "source": [
        "r=0\n",
        "n=int(input(\"Enter a number: \"))\n",
        "while(n>0):\n",
        "    dig=n%10\n",
        "    r=r*10+dig\n",
        "    n=n//10\n",
        "print(\"The reversed no  is:\")\n",
        "print(r)\n"
      ],
      "execution_count": null,
      "outputs": [
        {
          "output_type": "stream",
          "text": [
            "Enter a number: 123\n",
            "The reversed no  is:\n",
            "321\n"
          ],
          "name": "stdout"
        }
      ]
    },
    {
      "cell_type": "markdown",
      "metadata": {
        "id": "_xrpG1TxodCt",
        "colab_type": "text"
      },
      "source": [
        "#Write a Python program to construct the following pattern, using a nested for loop.\n",
        "\n"
      ]
    },
    {
      "cell_type": "code",
      "metadata": {
        "id": "vkUbPydxofIO",
        "colab_type": "code",
        "colab": {
          "base_uri": "https://localhost:8080/",
          "height": 185
        },
        "outputId": "c7623b03-d423-443a-edd9-4bc602b329a6"
      },
      "source": [
        "#     * \n",
        "#     * * \n",
        "#     * * * \n",
        "#     * * * * \n",
        "#     * * * * * \n",
        "#     * * * * \n",
        "#     * * * \n",
        "#     * * \n",
        "#     *\n",
        "\n",
        "n=5;\n",
        "for i in range(n):\n",
        "    for j in range(i):\n",
        "        print ('* ', end=\"\")\n",
        "    print('')\n",
        "\n",
        "for i in range(n,0,-1):\n",
        "    for j in range(i):\n",
        "        print('* ', end=\"\")\n",
        "    print('')"
      ],
      "execution_count": null,
      "outputs": [
        {
          "output_type": "stream",
          "text": [
            "\n",
            "* \n",
            "* * \n",
            "* * * \n",
            "* * * * \n",
            "* * * * * \n",
            "* * * * \n",
            "* * * \n",
            "* * \n",
            "* \n"
          ],
          "name": "stdout"
        }
      ]
    },
    {
      "cell_type": "markdown",
      "metadata": {
        "id": "Jek1lXMgpnNA",
        "colab_type": "text"
      },
      "source": [
        "#Python Program to replace all occurrences of ‘a’ with ‘$’ in a string. "
      ]
    },
    {
      "cell_type": "code",
      "metadata": {
        "id": "MFBIPbHopsoO",
        "colab_type": "code",
        "colab": {
          "base_uri": "https://localhost:8080/",
          "height": 67
        },
        "outputId": "a2724507-0c7a-46ef-e15b-88e5caea37c5"
      },
      "source": [
        "string=input(\"Enter string:\")\n",
        "string=string.replace('a','$')\n",
        "string=string.replace('A','$')\n",
        "print(\"Modified string:\")\n",
        "print(string)\n"
      ],
      "execution_count": null,
      "outputs": [
        {
          "output_type": "stream",
          "text": [
            "Enter string:Abhishek\n",
            "Modified string:\n",
            "$bhishek\n"
          ],
          "name": "stdout"
        }
      ]
    },
    {
      "cell_type": "markdown",
      "metadata": {
        "id": "qXh_KvZXxEN0",
        "colab_type": "text"
      },
      "source": [
        "#Python Program to remove the nth index character from a non-empty string. "
      ]
    },
    {
      "cell_type": "code",
      "metadata": {
        "id": "BPnIzxkPxIS8",
        "colab_type": "code",
        "colab": {
          "base_uri": "https://localhost:8080/",
          "height": 84
        },
        "outputId": "f39e045b-1cf1-49e4-911d-ac1def4b7e9e"
      },
      "source": [
        "def remove(string, n):  \n",
        "      first = string[:n]   \n",
        "      last = string[n+1:]  \n",
        "      return first + last\n",
        "string=input(\"Enter the sring:\")\n",
        "n=int(input(\"Enter the index of the character to remove:\"))\n",
        "print(\"Modified string:\")\n",
        "print(remove(string, n))\n"
      ],
      "execution_count": null,
      "outputs": [
        {
          "output_type": "stream",
          "text": [
            "Enter the sring:Hii man\n",
            "Enter the index of the character to remove:4\n",
            "Modified string:\n",
            "Hii an\n"
          ],
          "name": "stdout"
        }
      ]
    },
    {
      "cell_type": "markdown",
      "metadata": {
        "id": "xHQSEjiSx7Sm",
        "colab_type": "text"
      },
      "source": [
        "#Python Program to detect if two strings are anagrams. "
      ]
    },
    {
      "cell_type": "code",
      "metadata": {
        "id": "NV_XFxWHx8D0",
        "colab_type": "code",
        "colab": {
          "base_uri": "https://localhost:8080/",
          "height": 67
        },
        "outputId": "29a92e16-abb4-4da2-f9de-b76059af0e6c"
      },
      "source": [
        "s1=input(\"Enter first string:\")\n",
        "s2=input(\"Enter second string:\")\n",
        "if(sorted(s1)==sorted(s2)):\n",
        "      print(\"The strings are anagrams.\")\n",
        "else:\n",
        "      print(\"The strings aren't anagrams.\")\n"
      ],
      "execution_count": null,
      "outputs": [
        {
          "output_type": "stream",
          "text": [
            "Enter first string:Abhishek\n",
            "Enter second string:Mahendrakar\n",
            "The strings aren't anagrams.\n"
          ],
          "name": "stdout"
        }
      ]
    },
    {
      "cell_type": "markdown",
      "metadata": {
        "id": "Xw9nUTs8yMrb",
        "colab_type": "text"
      },
      "source": [
        "#Python Program to form a string where the first character and the last character have been exchanged. "
      ]
    },
    {
      "cell_type": "code",
      "metadata": {
        "id": "F0DmhpjQyOps",
        "colab_type": "code",
        "colab": {
          "base_uri": "https://localhost:8080/",
          "height": 67
        },
        "outputId": "f1ddfaec-e5f5-438f-80e3-6565d70b5d77"
      },
      "source": [
        "def change(string):\n",
        "      return string[-1:] + string[1:-1] + string[:1]\n",
        "string=input(\"Enter string:\")\n",
        "print(\"Modified string:\")\n",
        "print(change(string))\n"
      ],
      "execution_count": null,
      "outputs": [
        {
          "output_type": "stream",
          "text": [
            "Enter string:Abhisek\n",
            "Modified string:\n",
            "kbhiseA\n"
          ],
          "name": "stdout"
        }
      ]
    },
    {
      "cell_type": "markdown",
      "metadata": {
        "id": "Imw9X07-yZb0",
        "colab_type": "text"
      },
      "source": [
        "#Python Program to  count number of vowels from a non-empty string. "
      ]
    },
    {
      "cell_type": "code",
      "metadata": {
        "id": "UoeX-mCVyZ_8",
        "colab_type": "code",
        "colab": {
          "base_uri": "https://localhost:8080/",
          "height": 67
        },
        "outputId": "aba53d96-dcf6-4bad-e8a6-075d169e0166"
      },
      "source": [
        "string=input(\"Enter string:\")\n",
        "vowels=0\n",
        "for i in string:\n",
        "      if(i=='a' or i=='e' or i=='i' or i=='o' or i=='u' or i=='A' or i=='E' or i=='I' or i=='O' or i=='U'):\n",
        "            vowels=vowels+1\n",
        "print(\"Number of vowels are:\")\n",
        "print(vowels)\n"
      ],
      "execution_count": null,
      "outputs": [
        {
          "output_type": "stream",
          "text": [
            "Enter string:Abhishek\n",
            "Number of vowels are:\n",
            "3\n"
          ],
          "name": "stdout"
        }
      ]
    },
    {
      "cell_type": "markdown",
      "metadata": {
        "id": "l1-3MERVyiL2",
        "colab_type": "text"
      },
      "source": [
        "#Program for Divide by zero error detection"
      ]
    },
    {
      "cell_type": "code",
      "metadata": {
        "id": "PvFaMde9yi_1",
        "colab_type": "code",
        "colab": {
          "base_uri": "https://localhost:8080/",
          "height": 101
        },
        "outputId": "900c280d-83bc-4a0e-df54-e104d2ef9868"
      },
      "source": [
        "flag = True\n",
        "\n",
        "def div(a, b):  \n",
        "       try:\n",
        "            print(\"Finally the division of %d/%d is %f\" % (a, b,a/b))\n",
        "            global flag\n",
        "            flag=False\n",
        "       except ZeroDivisionError:\n",
        "            print(\"Zero Division Error detected\")\n",
        "       else:\n",
        "            print(\"Division is successful\") \n",
        "       finally:\n",
        "            if flag is True:\n",
        "               print(\"Try again\")     \n",
        "            else:\n",
        "               print(\"Thank you\")\n",
        "       \n",
        "#global flag\n",
        "\n",
        "while flag is True:\n",
        "    div(int(input(\"Enter numerator\")),int(input(\"Enter denominator\")))\n"
      ],
      "execution_count": null,
      "outputs": [
        {
          "output_type": "stream",
          "text": [
            "Enter numerator5\n",
            "Enter denominator5\n",
            "Finally the division of 5/5 is 1.000000\n",
            "Division is successful\n",
            "Thank you\n"
          ],
          "name": "stdout"
        }
      ]
    },
    {
      "cell_type": "markdown",
      "metadata": {
        "id": "q_T50hSzyyvL",
        "colab_type": "text"
      },
      "source": [
        "#Program for ValueError error detection"
      ]
    },
    {
      "cell_type": "code",
      "metadata": {
        "id": "YHl9n8JnyzYM",
        "colab_type": "code",
        "colab": {
          "base_uri": "https://localhost:8080/",
          "height": 50
        },
        "outputId": "afd717a6-d234-4057-bc5b-62ec43d5757f"
      },
      "source": [
        "while True:\n",
        "     try:\n",
        "         x = int(input(\"Please enter a number: \"))\n",
        "         print(\" That was valid number. Thank you\")\n",
        "         break\n",
        "     except ValueError:\n",
        "         print(\"Oops!  That was no valid number.  Try again...\")\n"
      ],
      "execution_count": null,
      "outputs": [
        {
          "output_type": "stream",
          "text": [
            "Please enter a number: 5\n",
            " That was valid number. Thank you\n"
          ],
          "name": "stdout"
        }
      ]
    },
    {
      "cell_type": "markdown",
      "metadata": {
        "id": "m65-bN-T5CDb",
        "colab_type": "text"
      },
      "source": [
        "#Exercises"
      ]
    },
    {
      "cell_type": "markdown",
      "metadata": {
        "id": "OekzDyOV5Lx7",
        "colab_type": "text"
      },
      "source": [
        "1. Write a program to print the triangle "
      ]
    },
    {
      "cell_type": "code",
      "metadata": {
        "id": "OBpiLZqz5Rj-",
        "colab_type": "code",
        "colab": {
          "base_uri": "https://localhost:8080/",
          "height": 101
        },
        "outputId": "dbab2c75-7b12-4891-ab2c-5e045458c235"
      },
      "source": [
        "x= int(input(\"Enter the number: \"))\n",
        "for i in range(1,x+1):\n",
        "  for j in range(i):\n",
        "    print(i+j,end=\" \")\n",
        "  print(\"\")"
      ],
      "execution_count": null,
      "outputs": [
        {
          "output_type": "stream",
          "text": [
            "Enter the number: 4\n",
            "1 \n",
            "2 3 \n",
            "3 4 5 \n",
            "4 5 6 7 \n"
          ],
          "name": "stdout"
        }
      ]
    },
    {
      "cell_type": "markdown",
      "metadata": {
        "id": "9KbxcfkjEReU",
        "colab_type": "text"
      },
      "source": [
        "2. Enter number 4"
      ]
    },
    {
      "cell_type": "code",
      "metadata": {
        "id": "WVn0IdcAEV5C",
        "colab_type": "code",
        "colab": {
          "base_uri": "https://localhost:8080/",
          "height": 101
        },
        "outputId": "e89d838c-251e-442a-c832-23bdf8e75199"
      },
      "source": [
        "x= int(input(\"Enter the number: \"))\n",
        "\n",
        "for i in range(x):\n",
        "  for j in range(i+1):\n",
        "    print(\"*\",end=\" \")\n",
        "  print(\"\")"
      ],
      "execution_count": null,
      "outputs": [
        {
          "output_type": "stream",
          "text": [
            "Enter the number: 4\n",
            "* \n",
            "* * \n",
            "* * * \n",
            "* * * * \n"
          ],
          "name": "stdout"
        }
      ]
    },
    {
      "cell_type": "markdown",
      "metadata": {
        "id": "w2wiBYXtE610",
        "colab_type": "text"
      },
      "source": [
        "3. Enter number 5"
      ]
    },
    {
      "cell_type": "code",
      "metadata": {
        "id": "GEhGQ32WE9-5",
        "colab_type": "code",
        "colab": {
          "base_uri": "https://localhost:8080/",
          "height": 134
        },
        "outputId": "6e7e224e-278d-490b-b3ee-c3aeb1e8c4bb"
      },
      "source": [
        "x= int(input(\"Enter the number: \"))\n",
        "\n",
        "arr=[]\n",
        "for i in range(x,0,-1):\n",
        "  arr.append(i)\n",
        "\n",
        "for i in range(x+1):\n",
        "  for j in range(1,i+1):\n",
        "    print(arr[i-j],end=\" \")\n",
        "  print(\"\")"
      ],
      "execution_count": null,
      "outputs": [
        {
          "output_type": "stream",
          "text": [
            "Enter the number: 5\n",
            "\n",
            "5 \n",
            "4 5 \n",
            "3 4 5 \n",
            "2 3 4 5 \n",
            "1 2 3 4 5 \n"
          ],
          "name": "stdout"
        }
      ]
    },
    {
      "cell_type": "markdown",
      "metadata": {
        "id": "77GL6bK_HsF6",
        "colab_type": "text"
      },
      "source": [
        "4. Enter number 5"
      ]
    },
    {
      "cell_type": "code",
      "metadata": {
        "id": "cxoJIT7_HuFg",
        "colab_type": "code",
        "colab": {
          "base_uri": "https://localhost:8080/",
          "height": 118
        },
        "outputId": "75ffd373-d9de-4b3c-c23f-a1409a5c22e6"
      },
      "source": [
        "x= int(input(\"Enter the number: \"))\n",
        "\n",
        "for i in range(x,0,-1):\n",
        "  for j in range(i):\n",
        "    print(i-j,end=\" \")\n",
        "  print(\"\")"
      ],
      "execution_count": null,
      "outputs": [
        {
          "output_type": "stream",
          "text": [
            "Enter the number: 5\n",
            "5 4 3 2 1 \n",
            "4 3 2 1 \n",
            "3 2 1 \n",
            "2 1 \n",
            "1 \n"
          ],
          "name": "stdout"
        }
      ]
    },
    {
      "cell_type": "markdown",
      "metadata": {
        "id": "tD4XjowmQWms",
        "colab_type": "text"
      },
      "source": [
        "5. Enter number 4"
      ]
    },
    {
      "cell_type": "code",
      "metadata": {
        "id": "HZ6fw1g6QZBf",
        "colab_type": "code",
        "colab": {
          "base_uri": "https://localhost:8080/",
          "height": 185
        },
        "outputId": "ee22e163-2664-49db-e784-119676dd25b7"
      },
      "source": [
        "x= int(input(\"Enter the number: \"))\n",
        "\n",
        "for i in range(x):\n",
        "  for j in range(x-i,0,-1):\n",
        "    print(x-j+1,end=\" \")\n",
        "  print(\"\")\n",
        "\n",
        "for i in range(2,x+1):\n",
        "  for j in range(i,0,-1):\n",
        "    print(x-j+1,end=\" \")\n",
        "  print(\"\")\n"
      ],
      "execution_count": 33,
      "outputs": [
        {
          "output_type": "stream",
          "text": [
            "Enter the number: 5\n",
            "1 2 3 4 5 \n",
            "2 3 4 5 \n",
            "3 4 5 \n",
            "4 5 \n",
            "5 \n",
            "4 5 \n",
            "3 4 5 \n",
            "2 3 4 5 \n",
            "1 2 3 4 5 \n"
          ],
          "name": "stdout"
        }
      ]
    },
    {
      "cell_type": "markdown",
      "metadata": {
        "id": "1uxMpDIEhwD6",
        "colab_type": "text"
      },
      "source": [
        "6. Find the length of a string without using len functions"
      ]
    },
    {
      "cell_type": "code",
      "metadata": {
        "id": "unH6htiLhyJj",
        "colab_type": "code",
        "colab": {
          "base_uri": "https://localhost:8080/",
          "height": 67
        },
        "outputId": "ff707c9d-12e9-4f2c-9cc2-d9df18097371"
      },
      "source": [
        "st= input(\"Enter the string: \")\n",
        "x=0\n",
        "for i in st:\n",
        "  x+=1\n",
        "print(\"The length of the string is: \",x)\n"
      ],
      "execution_count": 34,
      "outputs": [
        {
          "output_type": "stream",
          "text": [
            "Enter the string: Abhishek Vasudev Mahendrakar\n",
            "The length of the string is:  28\n",
            "By builtin 28\n"
          ],
          "name": "stdout"
        }
      ]
    },
    {
      "cell_type": "markdown",
      "metadata": {
        "id": "ZBDwfu_TiSqT",
        "colab_type": "text"
      },
      "source": [
        "7. Find the no of words and characters in a string"
      ]
    },
    {
      "cell_type": "code",
      "metadata": {
        "id": "bfgEcKIgiXlS",
        "colab_type": "code",
        "colab": {
          "base_uri": "https://localhost:8080/",
          "height": 50
        },
        "outputId": "681d0ea2-27c0-4340-a4c4-16e856a4380e"
      },
      "source": [
        "x= input(\"Enter the string: \").split()\n",
        "\n",
        "print(\"Number of words in string= \",len(x))"
      ],
      "execution_count": 35,
      "outputs": [
        {
          "output_type": "stream",
          "text": [
            "Enter the string: Abhishek is a good boy\n",
            "Number of words in string=  5\n"
          ],
          "name": "stdout"
        }
      ]
    },
    {
      "cell_type": "markdown",
      "metadata": {
        "id": "wJpwwjypiyC6",
        "colab_type": "text"
      },
      "source": [
        "8. Find the no of occurrences of a word in a string"
      ]
    },
    {
      "cell_type": "code",
      "metadata": {
        "id": "xyvl6Oc2i2NA",
        "colab_type": "code",
        "colab": {
          "base_uri": "https://localhost:8080/",
          "height": 101
        },
        "outputId": "520c87bc-a35f-485c-c65b-bb9add652a61"
      },
      "source": [
        "import string\n",
        "x= input(\"Enter the string= \").lower()\n",
        "x=x.split()\n",
        "print(x)\n",
        "y= input(\"Enter the word: \").lower()\n",
        "print(y)\n",
        "n=0\n",
        "for word in x:\n",
        "  if word==y:\n",
        "    n+=1\n",
        "print(\"Number of occurance of\",y,\"in the string is:\",n)"
      ],
      "execution_count": 49,
      "outputs": [
        {
          "output_type": "stream",
          "text": [
            "Enter the string= IS IS IS IT IT IS IS IT IT IS\n",
            "['is', 'is', 'is', 'it', 'it', 'is', 'is', 'it', 'it', 'is']\n",
            "Enter the word: Is\n",
            "is\n",
            "Number of occurance of is in the string is: 6\n"
          ],
          "name": "stdout"
        }
      ]
    }
  ]
}
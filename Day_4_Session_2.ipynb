{
  "nbformat": 4,
  "nbformat_minor": 0,
  "metadata": {
    "colab": {
      "name": "Day-4 Session-2.ipynb",
      "provenance": [],
      "authorship_tag": "ABX9TyPiZ8sv4mZfTcAP5TuBKrnr",
      "include_colab_link": true
    },
    "kernelspec": {
      "name": "python3",
      "display_name": "Python 3"
    }
  },
  "cells": [
    {
      "cell_type": "markdown",
      "metadata": {
        "id": "view-in-github",
        "colab_type": "text"
      },
      "source": [
        "<a href=\"https://colab.research.google.com/github/alvas-education-foundation/ECEAbhishekVMahendrakar/blob/master/Day_4_Session_2.ipynb\" target=\"_parent\"><img src=\"https://colab.research.google.com/assets/colab-badge.svg\" alt=\"Open In Colab\"/></a>"
      ]
    },
    {
      "cell_type": "markdown",
      "metadata": {
        "id": "BdA4h8uXv63f",
        "colab_type": "text"
      },
      "source": [
        "#Example #1"
      ]
    },
    {
      "cell_type": "code",
      "metadata": {
        "id": "NaZj2h1VwDPP",
        "colab_type": "code",
        "colab": {
          "base_uri": "https://localhost:8080/",
          "height": 34
        },
        "outputId": "df3e5175-b0e2-4641-cffb-4c5fd0049049"
      },
      "source": [
        "x=[1, 2, 3, 4, 5, 6]\n",
        "result = []\n",
        "for idx in range(len(x)):\n",
        "\tresult.append(x[idx] * 2)\n",
        "print(result)"
      ],
      "execution_count": 1,
      "outputs": [
        {
          "output_type": "stream",
          "text": [
            "[2, 4, 6, 8, 10, 12]\n"
          ],
          "name": "stdout"
        }
      ]
    },
    {
      "cell_type": "markdown",
      "metadata": {
        "id": "D1lpr1FZwG6-",
        "colab_type": "text"
      },
      "source": [
        "#Only 2 line! it is pythonic\n"
      ]
    },
    {
      "cell_type": "code",
      "metadata": {
        "id": "x7VXymauwMq_",
        "colab_type": "code",
        "colab": {
          "base_uri": "https://localhost:8080/",
          "height": 34
        },
        "outputId": "3c382234-3352-464e-ff1c-32a51033e4e4"
      },
      "source": [
        "x=[1, 2, 3, 4, 5, 6]\n",
        "print([(element * 2) for element in x])"
      ],
      "execution_count": 2,
      "outputs": [
        {
          "output_type": "stream",
          "text": [
            "[2, 4, 6, 8, 10, 12]\n"
          ],
          "name": "stdout"
        }
      ]
    },
    {
      "cell_type": "markdown",
      "metadata": {
        "id": "QO7KehaHwPPe",
        "colab_type": "text"
      },
      "source": [
        "#Example #2"
      ]
    },
    {
      "cell_type": "code",
      "metadata": {
        "id": "8yURjc1XwS03",
        "colab_type": "code",
        "colab": {
          "base_uri": "https://localhost:8080/",
          "height": 34
        },
        "outputId": "c723fa3b-ffc6-4f5b-f66c-c3240c5da0ca"
      },
      "source": [
        "x=[1, 2, 3, 4, 5, 6, 7, 8, 9, 10]\n",
        "result = []\n",
        "for idx in range(len(x)):\n",
        "\tif x[idx] % 2 == 0:\n",
        "\t\tresult.append(x[idx] * 2)\n",
        "\telse:\n",
        "\t\tresult.append(x[idx])\n",
        "print(result)"
      ],
      "execution_count": 3,
      "outputs": [
        {
          "output_type": "stream",
          "text": [
            "[1, 4, 3, 8, 5, 12, 7, 16, 9, 20]\n"
          ],
          "name": "stdout"
        }
      ]
    },
    {
      "cell_type": "markdown",
      "metadata": {
        "id": "JTwCXdKtwVfB",
        "colab_type": "text"
      },
      "source": [
        "#the Pythonic way. The Pythonic way is to combine for and if using list comprehension"
      ]
    },
    {
      "cell_type": "code",
      "metadata": {
        "id": "4ffKBZpdwXA3",
        "colab_type": "code",
        "colab": {
          "base_uri": "https://localhost:8080/",
          "height": 34
        },
        "outputId": "b2926c91-f69a-4c7c-fff7-a761b5eb2d34"
      },
      "source": [
        "x=[1, 2, 3, 4, 5, 6, 7, 8, 9, 10]\n",
        "[(element * 2 if element % 2 == 0 else element) for element in x]"
      ],
      "execution_count": 4,
      "outputs": [
        {
          "output_type": "execute_result",
          "data": {
            "text/plain": [
              "[1, 4, 3, 8, 5, 12, 7, 16, 9, 20]"
            ]
          },
          "metadata": {
            "tags": []
          },
          "execution_count": 4
        }
      ]
    },
    {
      "cell_type": "markdown",
      "metadata": {
        "id": "UhLHO_X9wau4",
        "colab_type": "text"
      },
      "source": [
        "#Example #3 filtering only even numbers"
      ]
    },
    {
      "cell_type": "code",
      "metadata": {
        "id": "PzWmXN-Nwdu2",
        "colab_type": "code",
        "colab": {
          "base_uri": "https://localhost:8080/",
          "height": 34
        },
        "outputId": "0645d93e-dfb9-438f-e070-f5cea5af5462"
      },
      "source": [
        "x=[1, 2, 3, 4, 5, 6, 7, 8, 9, 10]\n",
        "result = []\n",
        "for idx in range(len(x)):\n",
        "  if x[idx] % 2 == 1:\n",
        "    result.append(idx)\n",
        "print(result)"
      ],
      "execution_count": 6,
      "outputs": [
        {
          "output_type": "stream",
          "text": [
            "[0, 2, 4, 6, 8]\n"
          ],
          "name": "stdout"
        }
      ]
    },
    {
      "cell_type": "markdown",
      "metadata": {
        "id": "7juOsjOjwff_",
        "colab_type": "text"
      },
      "source": [
        "#the Pythonic way."
      ]
    },
    {
      "cell_type": "code",
      "metadata": {
        "id": "BmyTjd6KwhWP",
        "colab_type": "code",
        "colab": {
          "base_uri": "https://localhost:8080/",
          "height": 34
        },
        "outputId": "f0c20509-15c9-471c-d85a-8cdfaa89891f"
      },
      "source": [
        "x=[1, 2, 3, 4, 5, 6, 7, 8, 9, 10]\n",
        "[element * 2 for element in x if element % 2 == 0]"
      ],
      "execution_count": 5,
      "outputs": [
        {
          "output_type": "execute_result",
          "data": {
            "text/plain": [
              "[4, 8, 12, 16, 20]"
            ]
          },
          "metadata": {
            "tags": []
          },
          "execution_count": 5
        }
      ]
    }
  ]
}
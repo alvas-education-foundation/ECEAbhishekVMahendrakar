{
  "nbformat": 4,
  "nbformat_minor": 0,
  "metadata": {
    "colab": {
      "name": "Day-3 Session-2.ipynb",
      "provenance": [],
      "collapsed_sections": [],
      "include_colab_link": true
    },
    "kernelspec": {
      "name": "python3",
      "display_name": "Python 3"
    }
  },
  "cells": [
    {
      "cell_type": "markdown",
      "metadata": {
        "id": "view-in-github",
        "colab_type": "text"
      },
      "source": [
        "<a href=\"https://colab.research.google.com/github/alvas-education-foundation/ECEAbhishekVMahendrakar/blob/master/Day_3_Session_2.ipynb\" target=\"_parent\"><img src=\"https://colab.research.google.com/assets/colab-badge.svg\" alt=\"Open In Colab\"/></a>"
      ]
    },
    {
      "cell_type": "markdown",
      "metadata": {
        "id": "UOA4IcsbUPWH",
        "colab_type": "text"
      },
      "source": [
        "#Finding the factorial of a number"
      ]
    },
    {
      "cell_type": "code",
      "metadata": {
        "id": "wLHAVbTjUStf",
        "colab_type": "code",
        "colab": {
          "base_uri": "https://localhost:8080/",
          "height": 67
        },
        "outputId": "bcfb255c-5aa7-48b9-c6e5-0846ea62eb1a"
      },
      "source": [
        "n=int(input(\"Enter number:\"))\n",
        "fact=1\n",
        "while(n>0):\n",
        "  fact=fact*n\n",
        "  n=n-1\n",
        "print(\"Factorial of the number is: \")\n",
        "print(fact)"
      ],
      "execution_count": 3,
      "outputs": [
        {
          "output_type": "stream",
          "text": [
            "Enter number:5\n",
            "Factorial of the number is: \n",
            "120\n"
          ],
          "name": "stdout"
        }
      ]
    },
    {
      "cell_type": "markdown",
      "metadata": {
        "id": "KZ9uNqhbVCFQ",
        "colab_type": "text"
      },
      "source": [
        "#More Pythonic program of 3 lines!"
      ]
    },
    {
      "cell_type": "code",
      "metadata": {
        "id": "0W1A7fJoVDaG",
        "colab_type": "code",
        "colab": {
          "base_uri": "https://localhost:8080/",
          "height": 50
        },
        "outputId": "d5912acc-5bbe-4753-d18d-b07bc3ff3f8b"
      },
      "source": [
        "from functools import reduce\n",
        "sequences = [x for x in range(1,int(input('Enter no'))+1)]\n",
        "product = reduce(lambda x, y: x*y, sequences)\n",
        "print(product)"
      ],
      "execution_count": 6,
      "outputs": [
        {
          "output_type": "stream",
          "text": [
            "Enter no5\n",
            "120\n"
          ],
          "name": "stdout"
        }
      ]
    },
    {
      "cell_type": "markdown",
      "metadata": {
        "id": "fPvTZCAbUh1f",
        "colab_type": "text"
      },
      "source": [
        "#Program for multiples of 2 of a list without list comprehension"
      ]
    },
    {
      "cell_type": "code",
      "metadata": {
        "id": "fDuy11gmUkl_",
        "colab_type": "code",
        "colab": {
          "base_uri": "https://localhost:8080/",
          "height": 34
        },
        "outputId": "0ec96427-0d9f-4ff9-cf59-cf9d60526697"
      },
      "source": [
        "x=[1, 2, 3, 4, 5, 6]\n",
        "result = []\n",
        "for idx in range(len(x)):\n",
        "  result.append(x[idx] * 2)\n",
        "print(result)"
      ],
      "execution_count": 4,
      "outputs": [
        {
          "output_type": "stream",
          "text": [
            "[2, 4, 6, 8, 10, 12]\n"
          ],
          "name": "stdout"
        }
      ]
    },
    {
      "cell_type": "markdown",
      "metadata": {
        "id": "0WWrQHdDUo5W",
        "colab_type": "text"
      },
      "source": [
        "#Single line program of Pythonic coding"
      ]
    },
    {
      "cell_type": "code",
      "metadata": {
        "id": "vSCkJF3TUwtu",
        "colab_type": "code",
        "colab": {
          "base_uri": "https://localhost:8080/",
          "height": 34
        },
        "outputId": "2a2392de-6fe8-452c-fd51-7c9b27f12112"
      },
      "source": [
        "print([i*2 for i in [1, 2, 3, 4, 5, 6] ])"
      ],
      "execution_count": 5,
      "outputs": [
        {
          "output_type": "stream",
          "text": [
            "[2, 4, 6, 8, 10, 12]\n"
          ],
          "name": "stdout"
        }
      ]
    },
    {
      "cell_type": "markdown",
      "metadata": {
        "id": "zDGoqDK5U8Tw",
        "colab_type": "text"
      },
      "source": [
        "#Number and its square as Tuple for a range"
      ]
    },
    {
      "cell_type": "code",
      "metadata": {
        "id": "8kGadkpRVYGX",
        "colab_type": "code",
        "colab": {
          "base_uri": "https://localhost:8080/",
          "height": 67
        },
        "outputId": "4924a67d-05bb-440b-9092-244935235f95"
      },
      "source": [
        "l_range=int(input(\"Enter the lower range:\"))\n",
        "u_range=int(input(\"Enter the upper range:\"))\n",
        "a=[(x,x**2) for x in range(l_range,u_range+1)]\n",
        "print(a)"
      ],
      "execution_count": 7,
      "outputs": [
        {
          "output_type": "stream",
          "text": [
            "Enter the lower range:5\n",
            "Enter the upper range:15\n",
            "[(5, 25), (6, 36), (7, 49), (8, 64), (9, 81), (10, 100), (11, 121), (12, 144), (13, 169), (14, 196), (15, 225)]\n"
          ],
          "name": "stdout"
        }
      ]
    },
    {
      "cell_type": "markdown",
      "metadata": {
        "id": "j0pr690HVlde",
        "colab_type": "text"
      },
      "source": [
        "#More Pythonic program of 2 lines!"
      ]
    },
    {
      "cell_type": "code",
      "metadata": {
        "id": "2dYXYcuoVm_5",
        "colab_type": "code",
        "colab": {
          "base_uri": "https://localhost:8080/",
          "height": 67
        },
        "outputId": "c9f1e905-448b-4692-b27b-c366ad1bdfab"
      },
      "source": [
        "a=[(x,x**2) for x in range(int(input(\"Enter the lower range:\")),int(input(\"Enter the upper range:\"))+1)]\n",
        "print(a)"
      ],
      "execution_count": 10,
      "outputs": [
        {
          "output_type": "stream",
          "text": [
            "Enter the lower range:5\n",
            "Enter the upper range:19\n",
            "[(5, 25), (6, 36), (7, 49), (8, 64), (9, 81), (10, 100), (11, 121), (12, 144), (13, 169), (14, 196), (15, 225), (16, 256), (17, 289), (18, 324), (19, 361)]\n"
          ],
          "name": "stdout"
        }
      ]
    },
    {
      "cell_type": "markdown",
      "metadata": {
        "id": "kmxNeR64WWT3",
        "colab_type": "text"
      },
      "source": [
        "#The most Pythonic program of a sinle line program is given below"
      ]
    },
    {
      "cell_type": "code",
      "metadata": {
        "id": "l4e7LZD3WX4g",
        "colab_type": "code",
        "colab": {
          "base_uri": "https://localhost:8080/",
          "height": 67
        },
        "outputId": "23a5e4c6-24e8-4d6a-bd55-f3a5a6b62786"
      },
      "source": [
        "print([(x,x**2) for x in range(int(input(\"Enter the lower range:\")), int(input(\"Enter the upper range:\"))+1)])"
      ],
      "execution_count": 11,
      "outputs": [
        {
          "output_type": "stream",
          "text": [
            "Enter the lower range:5\n",
            "Enter the upper range:19\n",
            "[(5, 25), (6, 36), (7, 49), (8, 64), (9, 81), (10, 100), (11, 121), (12, 144), (13, 169), (14, 196), (15, 225), (16, 256), (17, 289), (18, 324), (19, 361)]\n"
          ],
          "name": "stdout"
        }
      ]
    },
    {
      "cell_type": "markdown",
      "metadata": {
        "id": "MosrxabCWgXW",
        "colab_type": "text"
      },
      "source": [
        "#Finding the perfect squares"
      ]
    },
    {
      "cell_type": "code",
      "metadata": {
        "id": "otynx9u9Wh-P",
        "colab_type": "code",
        "colab": {
          "base_uri": "https://localhost:8080/",
          "height": 34
        },
        "outputId": "14f8bd3b-925e-4ce4-97d9-79ea5ca9c266"
      },
      "source": [
        "from math import *\n",
        "sequences = [10,2,8,7,5,4,3,11,0,9,16,1]\n",
        "result=[]\n",
        "for i in sequences:\n",
        "  if int(sqrt(i))**2==i:\n",
        "    result.append(i)\n",
        "print(result)"
      ],
      "execution_count": 12,
      "outputs": [
        {
          "output_type": "stream",
          "text": [
            "[4, 0, 9, 16, 1]\n"
          ],
          "name": "stdout"
        }
      ]
    },
    {
      "cell_type": "markdown",
      "metadata": {
        "id": "6DXScJUMW3Ke",
        "colab_type": "text"
      },
      "source": [
        "#Pythonic program of 3 lines!"
      ]
    },
    {
      "cell_type": "code",
      "metadata": {
        "id": "bU6Pt0P1W5uX",
        "colab_type": "code",
        "colab": {
          "base_uri": "https://localhost:8080/",
          "height": 34
        },
        "outputId": "7b4ef956-4ce2-4f0c-8577-ea2f824bfbf1"
      },
      "source": [
        "sequences = [10,2,8,7,5,4,3,11,0,9,16,1]\n",
        "filtered_result = filter(lambda x: int(sqrt(x))**2==x, sequences)\n",
        "print(list(filtered_result))"
      ],
      "execution_count": 13,
      "outputs": [
        {
          "output_type": "stream",
          "text": [
            "[4, 0, 9, 16, 1]\n"
          ],
          "name": "stdout"
        }
      ]
    },
    {
      "cell_type": "markdown",
      "metadata": {
        "id": "NGWGml2ZXDU4",
        "colab_type": "text"
      },
      "source": [
        "#Program to finf the largest number in a list"
      ]
    },
    {
      "cell_type": "code",
      "metadata": {
        "id": "qQ243CP0XLh_",
        "colab_type": "code",
        "colab": {
          "base_uri": "https://localhost:8080/",
          "height": 134
        },
        "outputId": "6d7634de-aa13-442c-a6cf-214fd5503338"
      },
      "source": [
        "a=[]\n",
        "n=int(input(\"Enter number of elements:\"))\n",
        "for i in range(1,n+1):\n",
        "  b=int(input(\"Enter element:\"))\n",
        "  a.append(b)\n",
        "a.sort()\n",
        "print(\"Largest element is:\",a[n-1])"
      ],
      "execution_count": 14,
      "outputs": [
        {
          "output_type": "stream",
          "text": [
            "Enter number of elements:5\n",
            "Enter element:5\n",
            "Enter element:6\n",
            "Enter element:4\n",
            "Enter element:1\n",
            "Enter element:9\n",
            "Largest element is: 9\n"
          ],
          "name": "stdout"
        }
      ]
    },
    {
      "cell_type": "markdown",
      "metadata": {
        "id": "_YKma3XUXU0n",
        "colab_type": "text"
      },
      "source": [
        "#Try this More pythonic 2 lines program equivalent to above codings as shown below !"
      ]
    },
    {
      "cell_type": "code",
      "metadata": {
        "id": "i3b5oKZWXZgG",
        "colab_type": "code",
        "colab": {
          "base_uri": "https://localhost:8080/",
          "height": 134
        },
        "outputId": "c700d381-da27-4990-b84b-11a4b1fd81be"
      },
      "source": [
        "x=0\n",
        "print('The greatest no is',max([int(input(x)) for _ in range(int(input(\"Enter no\")))]))"
      ],
      "execution_count": 15,
      "outputs": [
        {
          "output_type": "stream",
          "text": [
            "Enter no5\n",
            "5\n",
            "6\n",
            "4\n",
            "1\n",
            "9\n",
            "The greatest no is 9\n"
          ],
          "name": "stdout"
        }
      ]
    },
    {
      "cell_type": "markdown",
      "metadata": {
        "id": "WXY0MepTXq1N",
        "colab_type": "text"
      },
      "source": [
        "#Program to put the even and odd elements in a list into two different lists."
      ]
    },
    {
      "cell_type": "code",
      "metadata": {
        "id": "0IaeWIz1XvQw",
        "colab_type": "code",
        "colab": {
          "base_uri": "https://localhost:8080/",
          "height": 151
        },
        "outputId": "00f22389-c98e-4177-e6c0-5fe8696c2671"
      },
      "source": [
        "a=[]\n",
        "n=int(input(\"Enter number of elements:\"))\n",
        "for i in range(1,n+1):\n",
        "  b=int(input(\"Enter element:\"))\n",
        "  a.append(b)\n",
        "even=[]\n",
        "odd=[]\n",
        "for j in a:\n",
        "  if(j%2==0):\n",
        "    even.append(j)\n",
        "  else:\n",
        "    odd.append(j)\n",
        "print(\"The even list\",even)\n",
        "print(\"The odd list\",odd)"
      ],
      "execution_count": 17,
      "outputs": [
        {
          "output_type": "stream",
          "text": [
            "Enter number of elements:5\n",
            "Enter element:1\n",
            "Enter element:2\n",
            "Enter element:3\n",
            "Enter element:4\n",
            "Enter element:5\n",
            "The even list [2, 4]\n",
            "The odd list [1, 3, 5]\n"
          ],
          "name": "stdout"
        }
      ]
    },
    {
      "cell_type": "markdown",
      "metadata": {
        "id": "zFjY0cUyX8AX",
        "colab_type": "text"
      },
      "source": [
        "#Instead of forementioned 14 lines program, the equivalent 4 lines !"
      ]
    },
    {
      "cell_type": "code",
      "metadata": {
        "id": "D6RTuXj6YB63",
        "colab_type": "code",
        "colab": {
          "base_uri": "https://localhost:8080/",
          "height": 151
        },
        "outputId": "e5bd3f5d-8739-4688-9532-9c00c1b0e368"
      },
      "source": [
        "x=0\n",
        "l=[int(input(x)) for _ in range(int(input(\"Enter n\")))]\n",
        "print('odd list is',[ i for i in l if i%2])\n",
        "print('even list is',[i for i in l if not i%2])"
      ],
      "execution_count": 18,
      "outputs": [
        {
          "output_type": "stream",
          "text": [
            "Enter n5\n",
            "1\n",
            "2\n",
            "3\n",
            "4\n",
            "5\n",
            "odd list is [1, 3, 5]\n",
            "even list is [2, 4]\n"
          ],
          "name": "stdout"
        }
      ]
    },
    {
      "cell_type": "markdown",
      "metadata": {
        "id": "H04LFtQgYOWX",
        "colab_type": "text"
      },
      "source": [
        "#Python Program to merge two lists and sort it."
      ]
    },
    {
      "cell_type": "code",
      "metadata": {
        "id": "9BmHsuSnYPS4",
        "colab_type": "code",
        "colab": {
          "base_uri": "https://localhost:8080/",
          "height": 218
        },
        "outputId": "2b01f5c0-b627-4552-baf5-39b6414c3449"
      },
      "source": [
        "a=[]\n",
        "c=[]\n",
        "n1=int(input(\"Enter number of elements:\"))\n",
        "for i in range(1,n1+1):\n",
        "  b=int(input(\"Enter element:\"))\n",
        "  a.append(b)\n",
        "n2=int(input(\"Enter number of elements:\"))\n",
        "for i in range(1,n2+1):\n",
        "  d=int(input(\"Enter element:\"))\n",
        "  c.append(d)\n",
        "new=a+c\n",
        "new.sort()\n",
        "print(\"Sorted list is:\",new)"
      ],
      "execution_count": 19,
      "outputs": [
        {
          "output_type": "stream",
          "text": [
            "Enter number of elements:5\n",
            "Enter element:1\n",
            "Enter element:2\n",
            "Enter element:3\n",
            "Enter element:4\n",
            "Enter element:5\n",
            "Enter number of elements:4\n",
            "Enter element:6\n",
            "Enter element:7\n",
            "Enter element:8\n",
            "Enter element:9\n",
            "Sorted list is: [1, 2, 3, 4, 5, 6, 7, 8, 9]\n"
          ],
          "name": "stdout"
        }
      ]
    },
    {
      "cell_type": "markdown",
      "metadata": {
        "id": "xe2XfQWcYdlf",
        "colab_type": "text"
      },
      "source": [
        "#Instead of forementioned 13 lines program, the equivalent 5 lines"
      ]
    },
    {
      "cell_type": "code",
      "metadata": {
        "id": "HKszYJeHYfvX",
        "colab_type": "code",
        "colab": {
          "base_uri": "https://localhost:8080/",
          "height": 218
        },
        "outputId": "4e22385e-31e9-48d9-8665-2ad4149d6ce9"
      },
      "source": [
        "x=0\n",
        "l=[int(input(x)) for _ in range(int(input(\"Enter how many elements\")))]\n",
        "m=[int(input(x)) for _ in range(int(input(\"Enter how many elements \")))]\n",
        "new=l+m\n",
        "new.sort()\n",
        "print(\"Sorted list is:\",new)"
      ],
      "execution_count": 20,
      "outputs": [
        {
          "output_type": "stream",
          "text": [
            "Enter how many elements5\n",
            "1\n",
            "2\n",
            "4\n",
            "3\n",
            "5\n",
            "Enter how many elements 4\n",
            "9\n",
            "8\n",
            "7\n",
            "6\n",
            "Sorted list is: [1, 2, 3, 4, 5, 6, 7, 8, 9]\n"
          ],
          "name": "stdout"
        }
      ]
    },
    {
      "cell_type": "markdown",
      "metadata": {
        "id": "JGvr4_UiYtKY",
        "colab_type": "text"
      },
      "source": [
        "#Python Program to sort the list according to the second element in the sublist."
      ]
    },
    {
      "cell_type": "code",
      "metadata": {
        "id": "YQE63gdpYxMY",
        "colab_type": "code",
        "colab": {
          "base_uri": "https://localhost:8080/",
          "height": 34
        },
        "outputId": "45c8aa1c-6529-4def-e149-21ac2d65875f"
      },
      "source": [
        "a=[['A',34],['B',21],['C',26],['E',29]]\n",
        "for i in range(0,len(a)):\n",
        "  for j in range(i+1,len(a)):\n",
        "    if(a[i][1]>a[j][1]):\n",
        "      temp=a[j]\n",
        "      a[j]=a[i]\n",
        "      a[i]=temp\n",
        "print(a)"
      ],
      "execution_count": 21,
      "outputs": [
        {
          "output_type": "stream",
          "text": [
            "[['B', 21], ['C', 26], ['E', 29], ['A', 34]]\n"
          ],
          "name": "stdout"
        }
      ]
    },
    {
      "cell_type": "markdown",
      "metadata": {
        "id": "SxFQqyrrY-Ke",
        "colab_type": "text"
      },
      "source": [
        "#Instead of forementioned 8 lines program, the equivalent 3 lines"
      ]
    },
    {
      "cell_type": "code",
      "metadata": {
        "id": "3ytyEmkWY_pv",
        "colab_type": "code",
        "colab": {
          "base_uri": "https://localhost:8080/",
          "height": 34
        },
        "outputId": "7c2fcbee-47c0-4148-b3e3-eeeb859348d7"
      },
      "source": [
        "a=[['A',34],['B',21],['C',26],['E',29]]\n",
        "a.sort(key = lambda x: x[1])\n",
        "print(a)"
      ],
      "execution_count": 22,
      "outputs": [
        {
          "output_type": "stream",
          "text": [
            "[['B', 21], ['C', 26], ['E', 29], ['A', 34]]\n"
          ],
          "name": "stdout"
        }
      ]
    },
    {
      "cell_type": "markdown",
      "metadata": {
        "id": "9Uhs-yq3ZCN3",
        "colab_type": "text"
      },
      "source": [
        "#Program to find the second largest number in  the list."
      ]
    },
    {
      "cell_type": "code",
      "metadata": {
        "id": "iPBMibe7ZK64",
        "colab_type": "code",
        "colab": {
          "base_uri": "https://localhost:8080/",
          "height": 134
        },
        "outputId": "26ae930f-c177-4b02-c3f1-ed7e1431a78f"
      },
      "source": [
        "a=[]\n",
        "n=int(input(\"Enter number of elements:\"))\n",
        "for i in range(1,n+1):\n",
        "  b=int(input(\"Enter element:\"))\n",
        "  a.append(b)\n",
        "for i in range(0,len(a)):\n",
        "  for j in range(0,len(a)-i-1):\n",
        "    if(a[j]>a[j+1]):\n",
        "      temp=a[j]\n",
        "      a[j]=a[j+1]\n",
        "      a[j+1]=temp\n",
        "print('Second largest number is:',a[n-2])"
      ],
      "execution_count": 24,
      "outputs": [
        {
          "output_type": "stream",
          "text": [
            "Enter number of elements:5\n",
            "Enter element:1\n",
            "Enter element:2\n",
            "Enter element:3\n",
            "Enter element:4\n",
            "Enter element:5\n",
            "Second largest number is: 4\n"
          ],
          "name": "stdout"
        }
      ]
    },
    {
      "cell_type": "markdown",
      "metadata": {
        "id": "rB1AaGajZhd4",
        "colab_type": "text"
      },
      "source": [
        "#Instead of forementioned 12 lines program, the equivalent 4 lines progam"
      ]
    },
    {
      "cell_type": "code",
      "metadata": {
        "id": "BdfIAmwoZwJA",
        "colab_type": "code",
        "colab": {
          "base_uri": "https://localhost:8080/",
          "height": 134
        },
        "outputId": "528866f1-2c23-4346-a819-13d6d19f5cdf"
      },
      "source": [
        "x=0\n",
        "l=[int(input(x)) for _ in range(int(input(\"Enter how many elements\")))]\n",
        "l.sort()\n",
        "print(\"Second largest element is :\",l[-2])"
      ],
      "execution_count": 25,
      "outputs": [
        {
          "output_type": "stream",
          "text": [
            "Enter how many elements5\n",
            "1\n",
            "2\n",
            "3\n",
            "4\n",
            "5\n",
            "Second largest element is : 4\n"
          ],
          "name": "stdout"
        }
      ]
    },
    {
      "cell_type": "markdown",
      "metadata": {
        "id": "7yXvZSB0Z6kw",
        "colab_type": "text"
      },
      "source": [
        "#Program to create a list of tuples with the first element as a number and second element as the square of the number."
      ]
    },
    {
      "cell_type": "code",
      "metadata": {
        "id": "D__XFSe2aI8v",
        "colab_type": "code",
        "colab": {
          "base_uri": "https://localhost:8080/",
          "height": 67
        },
        "outputId": "434f87da-df88-45c2-ecd7-edef36e0abba"
      },
      "source": [
        "l_range=int(input(\"Enter the lower range:\"))\n",
        "u_range=int(input(\"Enter the upper range:\"))\n",
        "a=[(x,x**2) for x in range(l_range,u_range+1)]\n",
        "print(a)"
      ],
      "execution_count": 26,
      "outputs": [
        {
          "output_type": "stream",
          "text": [
            "Enter the lower range:5\n",
            "Enter the upper range:19\n",
            "[(5, 25), (6, 36), (7, 49), (8, 64), (9, 81), (10, 100), (11, 121), (12, 144), (13, 169), (14, 196), (15, 225), (16, 256), (17, 289), (18, 324), (19, 361)]\n"
          ],
          "name": "stdout"
        }
      ]
    },
    {
      "cell_type": "markdown",
      "metadata": {
        "id": "j4T6mShEaQZg",
        "colab_type": "text"
      },
      "source": [
        "#We can still make it more pythonic as follows"
      ]
    },
    {
      "cell_type": "code",
      "metadata": {
        "id": "FgehlZxJaReZ",
        "colab_type": "code",
        "colab": {
          "base_uri": "https://localhost:8080/",
          "height": 67
        },
        "outputId": "8333b939-2a3a-4e39-f911-5b2ea86ac128"
      },
      "source": [
        "a=[(x,x**2) for x in range(int(input(\"Enter the lower range:\")),int(input(\"Enter the upper range:\"))+1)]\n",
        "print(a)"
      ],
      "execution_count": 27,
      "outputs": [
        {
          "output_type": "stream",
          "text": [
            "Enter the lower range:5\n",
            "Enter the upper range:19\n",
            "[(5, 25), (6, 36), (7, 49), (8, 64), (9, 81), (10, 100), (11, 121), (12, 144), (13, 169), (14, 196), (15, 225), (16, 256), (17, 289), (18, 324), (19, 361)]\n"
          ],
          "name": "stdout"
        }
      ]
    },
    {
      "cell_type": "markdown",
      "metadata": {
        "id": "y7ssOhY6aWeP",
        "colab_type": "text"
      },
      "source": [
        "#Of course, We can write in the most pythonic way with one line ! as follows"
      ]
    },
    {
      "cell_type": "code",
      "metadata": {
        "id": "PNr620wQabt4",
        "colab_type": "code",
        "colab": {
          "base_uri": "https://localhost:8080/",
          "height": 67
        },
        "outputId": "cfa93b4d-fdf2-4195-a5ca-dcf51680d900"
      },
      "source": [
        "print([(x,x**2) for x in range(int(input(\"Enter the lower range:\")),int(input(\"Enter the upper range:\"))+1)])"
      ],
      "execution_count": 28,
      "outputs": [
        {
          "output_type": "stream",
          "text": [
            "Enter the lower range:5\n",
            "Enter the upper range:19\n",
            "[(5, 25), (6, 36), (7, 49), (8, 64), (9, 81), (10, 100), (11, 121), (12, 144), (13, 169), (14, 196), (15, 225), (16, 256), (17, 289), (18, 324), (19, 361)]\n"
          ],
          "name": "stdout"
        }
      ]
    },
    {
      "cell_type": "markdown",
      "metadata": {
        "id": "r1VCpQA7ahdG",
        "colab_type": "text"
      },
      "source": [
        "#Program to generate random numbers from 1 to 20 and append them to the list."
      ]
    },
    {
      "cell_type": "code",
      "metadata": {
        "id": "Sm9Y2tnxai75",
        "colab_type": "code",
        "colab": {
          "base_uri": "https://localhost:8080/",
          "height": 50
        },
        "outputId": "4dcbf19e-440c-40aa-93d6-b713beeb6399"
      },
      "source": [
        "import random\n",
        "a=[]\n",
        "n=int(input(\"Enter number of elements:\"))\n",
        "for j in range(n):\n",
        "  a.append(random.randint(1,20))\n",
        "print('Randomised list is: ',a)"
      ],
      "execution_count": 29,
      "outputs": [
        {
          "output_type": "stream",
          "text": [
            "Enter number of elements:8\n",
            "Randomised list is:  [11, 18, 3, 6, 12, 9, 10, 8]\n"
          ],
          "name": "stdout"
        }
      ]
    },
    {
      "cell_type": "markdown",
      "metadata": {
        "id": "7dQ5SglkapV6",
        "colab_type": "text"
      },
      "source": [
        "#Pythonic program of 2 lines!"
      ]
    },
    {
      "cell_type": "code",
      "metadata": {
        "id": "YIFXq-KMaroB",
        "colab_type": "code",
        "colab": {
          "base_uri": "https://localhost:8080/",
          "height": 50
        },
        "outputId": "920f1886-9dc1-4a5b-ceab-643a996b8863"
      },
      "source": [
        "import random\n",
        "l=[random.randint(1,20) for _ in range(int(input(\"Enter how many elements\")))]\n",
        "print('Randomised list is: ',l)"
      ],
      "execution_count": 30,
      "outputs": [
        {
          "output_type": "stream",
          "text": [
            "Enter how many elements8\n",
            "Randomised list is:  [1, 14, 4, 15, 7, 13, 5, 1]\n"
          ],
          "name": "stdout"
        }
      ]
    },
    {
      "cell_type": "markdown",
      "metadata": {
        "id": "aS2EQvuPa0G6",
        "colab_type": "text"
      },
      "source": [
        "#Program for printing list of values with indexing"
      ]
    },
    {
      "cell_type": "code",
      "metadata": {
        "id": "w_ROqq-pa1Ov",
        "colab_type": "code",
        "colab": {
          "base_uri": "https://localhost:8080/",
          "height": 218
        },
        "outputId": "fdd3308d-0ff4-4012-cbc1-360b8584dbe3"
      },
      "source": [
        "names = ['Jan','Feb','Mar','Apr','May','Jun','Jul','Aug','Sep','Oct','Nov','Dec']\n",
        "index=1\n",
        "for i in names:\n",
        "  print(str(index)+\":\"+i)\n",
        "  index=index+1"
      ],
      "execution_count": 33,
      "outputs": [
        {
          "output_type": "stream",
          "text": [
            "1:Jan\n",
            "2:Feb\n",
            "3:Mar\n",
            "4:Apr\n",
            "5:May\n",
            "6:Jun\n",
            "7:Jul\n",
            "8:Aug\n",
            "9:Sep\n",
            "10:Oct\n",
            "11:Nov\n",
            "12:Dec\n"
          ],
          "name": "stdout"
        }
      ]
    },
    {
      "cell_type": "markdown",
      "metadata": {
        "id": "8JZVSAmca8q5",
        "colab_type": "text"
      },
      "source": [
        "#Using Pythonic way using enumerate()!"
      ]
    },
    {
      "cell_type": "code",
      "metadata": {
        "id": "0mQsR19Ua-gX",
        "colab_type": "code",
        "colab": {
          "base_uri": "https://localhost:8080/",
          "height": 218
        },
        "outputId": "d93c3e36-8c60-46fd-9a05-b4b5d57c03c3"
      },
      "source": [
        "names = ['Jan','Feb','Mar','Apr','May','Jun','Jul','Aug','Sep','Oct','Nov','Dec']\n",
        "for index, value in enumerate(names):\n",
        "  print(f'{index+1}: {value}')"
      ],
      "execution_count": 32,
      "outputs": [
        {
          "output_type": "stream",
          "text": [
            "1: Jan\n",
            "2: Feb\n",
            "3: Mar\n",
            "4: Apr\n",
            "5: May\n",
            "6: Jun\n",
            "7: Jul\n",
            "8: Aug\n",
            "9: Sep\n",
            "10: Oct\n",
            "11: Nov\n",
            "12: Dec\n"
          ],
          "name": "stdout"
        }
      ]
    },
    {
      "cell_type": "markdown",
      "metadata": {
        "id": "R_8Gv53WVaR9",
        "colab_type": "text"
      },
      "source": [
        "#Exercise"
      ]
    },
    {
      "cell_type": "markdown",
      "metadata": {
        "id": "wooHGnh2SWgP",
        "colab_type": "text"
      },
      "source": [
        "#Write a Python Program to Print Multiplication Table of a  number which got through keyboard."
      ]
    },
    {
      "cell_type": "code",
      "metadata": {
        "id": "Cx8rvW9tHvu9",
        "colab_type": "code",
        "colab": {
          "base_uri": "https://localhost:8080/",
          "height": 50
        },
        "outputId": "f18e1a52-8811-446a-f07f-c92d354f4872"
      },
      "source": [
        "n = int(input(\"Enter value n: \"))\n",
        "print([str(n)+\" x \"+str(i)+\" = \" + str(n*i) for i in range(1,11)])"
      ],
      "execution_count": null,
      "outputs": [
        {
          "output_type": "stream",
          "text": [
            "Enter value n: 9\n",
            "['9 x 1 = 9', '9 x 2 = 18', '9 x 3 = 27', '9 x 4 = 36', '9 x 5 = 45', '9 x 6 = 54', '9 x 7 = 63', '9 x 8 = 72', '9 x 9 = 81', '9 x 10 = 90']\n"
          ],
          "name": "stdout"
        }
      ]
    },
    {
      "cell_type": "markdown",
      "metadata": {
        "id": "GXaapzZZSj0T",
        "colab_type": "text"
      },
      "source": [
        "#Write a  Python Program to find the Armstrong Numbers between 1 and 2000 ( i.e 153 is amtrong numbers as 1**3+5**3+3**3=153 )"
      ]
    },
    {
      "cell_type": "code",
      "metadata": {
        "id": "f7nCNxxPOUnF",
        "colab_type": "code",
        "colab": {
          "base_uri": "https://localhost:8080/",
          "height": 34
        },
        "outputId": "7bb4eb5d-ddb8-4b5b-fe13-5ed8afaba990"
      },
      "source": [
        "li =[]\n",
        "for i in range(1,2000):\n",
        "  l = len(str(i))\n",
        "  sum=0\n",
        "  temp=i\n",
        "  while temp>0:\n",
        "    a = temp%10\n",
        "    sum += a ** l\n",
        "    temp //=10\n",
        "  if i == sum:\n",
        "    li.append(i)\n",
        "print(li)"
      ],
      "execution_count": null,
      "outputs": [
        {
          "output_type": "stream",
          "text": [
            "[1, 2, 3, 4, 5, 6, 7, 8, 9, 153, 370, 371, 407, 1634]\n"
          ],
          "name": "stdout"
        }
      ]
    },
    {
      "cell_type": "markdown",
      "metadata": {
        "id": "htn98QEgSnMV",
        "colab_type": "text"
      },
      "source": [
        "#Write a python program to get the list of tuples (rollno, name) for n students by getting rollno and name through keyboard. Sort and print  them as rollno wise and name wise both ascending and descending as well as alphabetical and dealphabetical orders"
      ]
    },
    {
      "cell_type": "code",
      "metadata": {
        "id": "wgcYkFJRRueL",
        "colab_type": "code",
        "colab": {
          "base_uri": "https://localhost:8080/",
          "height": 238
        },
        "outputId": "9b25df97-a249-408a-d814-1fe9c2e4b3be"
      },
      "source": [
        "li = []\n",
        "n = int(input(\"Enter value n: \"))\n",
        "for i in range(n):\n",
        "  rollno = input(\"Enter roll.no: \")\n",
        "  name = input(\"Enter name: \")\n",
        "  li.append((rollno,name))\n",
        "print(\"Ascending order (roll.no): \"+str(sorted(li)))\n",
        "li.sort(reverse=True)\n",
        "print(\"Descending order (roll.no): \"+str(li))\n",
        "li.sort(key = lambda x:x[1])\n",
        "print(\"Alphabetical order: \"+ str(li))\n",
        "li.sort(key = lambda x: x[1],reverse=True)\n",
        "print(\"Dealphabetical order: \"+ str(li))"
      ],
      "execution_count": null,
      "outputs": [
        {
          "output_type": "stream",
          "text": [
            "Enter value n: 4\n",
            "Enter roll.no: 1\n",
            "Enter name: ccc\n",
            "Enter roll.no: 4\n",
            "Enter name: ddd\n",
            "Enter roll.no: 2\n",
            "Enter name: aaa\n",
            "Enter roll.no: 3\n",
            "Enter name: bbb\n",
            "Ascending order (roll.no): [('1', 'ccc'), ('2', 'aaa'), ('3', 'bbb'), ('4', 'ddd')]\n",
            "Descending order (roll.no): [('4', 'ddd'), ('3', 'bbb'), ('2', 'aaa'), ('1', 'ccc')]\n",
            "Alphabetical order: [('2', 'aaa'), ('3', 'bbb'), ('1', 'ccc'), ('4', 'ddd')]\n",
            "Dealphabetical order: [('4', 'ddd'), ('1', 'ccc'), ('3', 'bbb'), ('2', 'aaa')]\n"
          ],
          "name": "stdout"
        }
      ]
    },
    {
      "cell_type": "markdown",
      "metadata": {
        "id": "dZXZjxuDSs32",
        "colab_type": "text"
      },
      "source": [
        "#Python Program to Detect if Two Strings are Anagrams ( They are  the two strings which have same length and same words which may be different in their order)"
      ]
    },
    {
      "cell_type": "code",
      "metadata": {
        "id": "XxwyXstxXXBp",
        "colab_type": "code",
        "colab": {
          "base_uri": "https://localhost:8080/",
          "height": 68
        },
        "outputId": "e3bc49a8-133a-4fbc-dbef-2b85aa0b3064"
      },
      "source": [
        "s1 = input(\"Enter first string: \")\n",
        "s2 = input(\"Enter second string: \")\n",
        "\n",
        "if(sorted(s1) == sorted(s2)):\n",
        "  print(\"Anagrams\")\n",
        "else:\n",
        "  print(\"Not Anagrams\")\n"
      ],
      "execution_count": null,
      "outputs": [
        {
          "output_type": "stream",
          "text": [
            "Enter first string: adcb weq\n",
            "Enter second string: abcd qwe\n",
            "Anagrams\n"
          ],
          "name": "stdout"
        }
      ]
    }
  ]
}